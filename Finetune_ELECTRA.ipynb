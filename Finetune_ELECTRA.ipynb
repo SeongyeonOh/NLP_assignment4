{
  "nbformat": 4,
  "nbformat_minor": 0,
  "metadata": {
    "colab": {
      "provenance": []
    },
    "kernelspec": {
      "name": "python3",
      "display_name": "Python 3"
    },
    "language_info": {
      "name": "python"
    },
    "widgets": {
      "application/vnd.jupyter.widget-state+json": {
        "831dde34cb6b461bb385a9dca6f36789": {
          "model_module": "@jupyter-widgets/controls",
          "model_name": "HBoxModel",
          "model_module_version": "1.5.0",
          "state": {
            "_dom_classes": [],
            "_model_module": "@jupyter-widgets/controls",
            "_model_module_version": "1.5.0",
            "_model_name": "HBoxModel",
            "_view_count": null,
            "_view_module": "@jupyter-widgets/controls",
            "_view_module_version": "1.5.0",
            "_view_name": "HBoxView",
            "box_style": "",
            "children": [
              "IPY_MODEL_1797767bbff641e1935d908b25640283",
              "IPY_MODEL_765a19a6516349b7b1da16b3c6814800",
              "IPY_MODEL_f15320b6431e48a9b054ac368b1c0356"
            ],
            "layout": "IPY_MODEL_13ae143e6c1940b5b94f8e67d83212d9"
          }
        },
        "1797767bbff641e1935d908b25640283": {
          "model_module": "@jupyter-widgets/controls",
          "model_name": "HTMLModel",
          "model_module_version": "1.5.0",
          "state": {
            "_dom_classes": [],
            "_model_module": "@jupyter-widgets/controls",
            "_model_module_version": "1.5.0",
            "_model_name": "HTMLModel",
            "_view_count": null,
            "_view_module": "@jupyter-widgets/controls",
            "_view_module_version": "1.5.0",
            "_view_name": "HTMLView",
            "description": "",
            "description_tooltip": null,
            "layout": "IPY_MODEL_7a92965b25a84bc9a513015faad73eeb",
            "placeholder": "​",
            "style": "IPY_MODEL_ed39703627c342598f7abdf5de2b8fca",
            "value": "Downloading: 100%"
          }
        },
        "765a19a6516349b7b1da16b3c6814800": {
          "model_module": "@jupyter-widgets/controls",
          "model_name": "FloatProgressModel",
          "model_module_version": "1.5.0",
          "state": {
            "_dom_classes": [],
            "_model_module": "@jupyter-widgets/controls",
            "_model_module_version": "1.5.0",
            "_model_name": "FloatProgressModel",
            "_view_count": null,
            "_view_module": "@jupyter-widgets/controls",
            "_view_module_version": "1.5.0",
            "_view_name": "ProgressView",
            "bar_style": "success",
            "description": "",
            "description_tooltip": null,
            "layout": "IPY_MODEL_3ce13e5271b2459991c45165e5df65a5",
            "max": 625,
            "min": 0,
            "orientation": "horizontal",
            "style": "IPY_MODEL_2f053879f2064bd8bd8ed2ab0ad9f165",
            "value": 625
          }
        },
        "f15320b6431e48a9b054ac368b1c0356": {
          "model_module": "@jupyter-widgets/controls",
          "model_name": "HTMLModel",
          "model_module_version": "1.5.0",
          "state": {
            "_dom_classes": [],
            "_model_module": "@jupyter-widgets/controls",
            "_model_module_version": "1.5.0",
            "_model_name": "HTMLModel",
            "_view_count": null,
            "_view_module": "@jupyter-widgets/controls",
            "_view_module_version": "1.5.0",
            "_view_name": "HTMLView",
            "description": "",
            "description_tooltip": null,
            "layout": "IPY_MODEL_fdcf937da3094c6b98396af2f175544c",
            "placeholder": "​",
            "style": "IPY_MODEL_9b5b0efda4e54bf38e5c0626592fce53",
            "value": " 625/625 [00:00&lt;00:00, 3.53kB/s]"
          }
        },
        "13ae143e6c1940b5b94f8e67d83212d9": {
          "model_module": "@jupyter-widgets/base",
          "model_name": "LayoutModel",
          "model_module_version": "1.2.0",
          "state": {
            "_model_module": "@jupyter-widgets/base",
            "_model_module_version": "1.2.0",
            "_model_name": "LayoutModel",
            "_view_count": null,
            "_view_module": "@jupyter-widgets/base",
            "_view_module_version": "1.2.0",
            "_view_name": "LayoutView",
            "align_content": null,
            "align_items": null,
            "align_self": null,
            "border": null,
            "bottom": null,
            "display": null,
            "flex": null,
            "flex_flow": null,
            "grid_area": null,
            "grid_auto_columns": null,
            "grid_auto_flow": null,
            "grid_auto_rows": null,
            "grid_column": null,
            "grid_gap": null,
            "grid_row": null,
            "grid_template_areas": null,
            "grid_template_columns": null,
            "grid_template_rows": null,
            "height": null,
            "justify_content": null,
            "justify_items": null,
            "left": null,
            "margin": null,
            "max_height": null,
            "max_width": null,
            "min_height": null,
            "min_width": null,
            "object_fit": null,
            "object_position": null,
            "order": null,
            "overflow": null,
            "overflow_x": null,
            "overflow_y": null,
            "padding": null,
            "right": null,
            "top": null,
            "visibility": null,
            "width": null
          }
        },
        "7a92965b25a84bc9a513015faad73eeb": {
          "model_module": "@jupyter-widgets/base",
          "model_name": "LayoutModel",
          "model_module_version": "1.2.0",
          "state": {
            "_model_module": "@jupyter-widgets/base",
            "_model_module_version": "1.2.0",
            "_model_name": "LayoutModel",
            "_view_count": null,
            "_view_module": "@jupyter-widgets/base",
            "_view_module_version": "1.2.0",
            "_view_name": "LayoutView",
            "align_content": null,
            "align_items": null,
            "align_self": null,
            "border": null,
            "bottom": null,
            "display": null,
            "flex": null,
            "flex_flow": null,
            "grid_area": null,
            "grid_auto_columns": null,
            "grid_auto_flow": null,
            "grid_auto_rows": null,
            "grid_column": null,
            "grid_gap": null,
            "grid_row": null,
            "grid_template_areas": null,
            "grid_template_columns": null,
            "grid_template_rows": null,
            "height": null,
            "justify_content": null,
            "justify_items": null,
            "left": null,
            "margin": null,
            "max_height": null,
            "max_width": null,
            "min_height": null,
            "min_width": null,
            "object_fit": null,
            "object_position": null,
            "order": null,
            "overflow": null,
            "overflow_x": null,
            "overflow_y": null,
            "padding": null,
            "right": null,
            "top": null,
            "visibility": null,
            "width": null
          }
        },
        "ed39703627c342598f7abdf5de2b8fca": {
          "model_module": "@jupyter-widgets/controls",
          "model_name": "DescriptionStyleModel",
          "model_module_version": "1.5.0",
          "state": {
            "_model_module": "@jupyter-widgets/controls",
            "_model_module_version": "1.5.0",
            "_model_name": "DescriptionStyleModel",
            "_view_count": null,
            "_view_module": "@jupyter-widgets/base",
            "_view_module_version": "1.2.0",
            "_view_name": "StyleView",
            "description_width": ""
          }
        },
        "3ce13e5271b2459991c45165e5df65a5": {
          "model_module": "@jupyter-widgets/base",
          "model_name": "LayoutModel",
          "model_module_version": "1.2.0",
          "state": {
            "_model_module": "@jupyter-widgets/base",
            "_model_module_version": "1.2.0",
            "_model_name": "LayoutModel",
            "_view_count": null,
            "_view_module": "@jupyter-widgets/base",
            "_view_module_version": "1.2.0",
            "_view_name": "LayoutView",
            "align_content": null,
            "align_items": null,
            "align_self": null,
            "border": null,
            "bottom": null,
            "display": null,
            "flex": null,
            "flex_flow": null,
            "grid_area": null,
            "grid_auto_columns": null,
            "grid_auto_flow": null,
            "grid_auto_rows": null,
            "grid_column": null,
            "grid_gap": null,
            "grid_row": null,
            "grid_template_areas": null,
            "grid_template_columns": null,
            "grid_template_rows": null,
            "height": null,
            "justify_content": null,
            "justify_items": null,
            "left": null,
            "margin": null,
            "max_height": null,
            "max_width": null,
            "min_height": null,
            "min_width": null,
            "object_fit": null,
            "object_position": null,
            "order": null,
            "overflow": null,
            "overflow_x": null,
            "overflow_y": null,
            "padding": null,
            "right": null,
            "top": null,
            "visibility": null,
            "width": null
          }
        },
        "2f053879f2064bd8bd8ed2ab0ad9f165": {
          "model_module": "@jupyter-widgets/controls",
          "model_name": "ProgressStyleModel",
          "model_module_version": "1.5.0",
          "state": {
            "_model_module": "@jupyter-widgets/controls",
            "_model_module_version": "1.5.0",
            "_model_name": "ProgressStyleModel",
            "_view_count": null,
            "_view_module": "@jupyter-widgets/base",
            "_view_module_version": "1.2.0",
            "_view_name": "StyleView",
            "bar_color": null,
            "description_width": ""
          }
        },
        "fdcf937da3094c6b98396af2f175544c": {
          "model_module": "@jupyter-widgets/base",
          "model_name": "LayoutModel",
          "model_module_version": "1.2.0",
          "state": {
            "_model_module": "@jupyter-widgets/base",
            "_model_module_version": "1.2.0",
            "_model_name": "LayoutModel",
            "_view_count": null,
            "_view_module": "@jupyter-widgets/base",
            "_view_module_version": "1.2.0",
            "_view_name": "LayoutView",
            "align_content": null,
            "align_items": null,
            "align_self": null,
            "border": null,
            "bottom": null,
            "display": null,
            "flex": null,
            "flex_flow": null,
            "grid_area": null,
            "grid_auto_columns": null,
            "grid_auto_flow": null,
            "grid_auto_rows": null,
            "grid_column": null,
            "grid_gap": null,
            "grid_row": null,
            "grid_template_areas": null,
            "grid_template_columns": null,
            "grid_template_rows": null,
            "height": null,
            "justify_content": null,
            "justify_items": null,
            "left": null,
            "margin": null,
            "max_height": null,
            "max_width": null,
            "min_height": null,
            "min_width": null,
            "object_fit": null,
            "object_position": null,
            "order": null,
            "overflow": null,
            "overflow_x": null,
            "overflow_y": null,
            "padding": null,
            "right": null,
            "top": null,
            "visibility": null,
            "width": null
          }
        },
        "9b5b0efda4e54bf38e5c0626592fce53": {
          "model_module": "@jupyter-widgets/controls",
          "model_name": "DescriptionStyleModel",
          "model_module_version": "1.5.0",
          "state": {
            "_model_module": "@jupyter-widgets/controls",
            "_model_module_version": "1.5.0",
            "_model_name": "DescriptionStyleModel",
            "_view_count": null,
            "_view_module": "@jupyter-widgets/base",
            "_view_module_version": "1.2.0",
            "_view_name": "StyleView",
            "description_width": ""
          }
        },
        "732963ed57a142659f59734b7d51da1d": {
          "model_module": "@jupyter-widgets/controls",
          "model_name": "HBoxModel",
          "model_module_version": "1.5.0",
          "state": {
            "_dom_classes": [],
            "_model_module": "@jupyter-widgets/controls",
            "_model_module_version": "1.5.0",
            "_model_name": "HBoxModel",
            "_view_count": null,
            "_view_module": "@jupyter-widgets/controls",
            "_view_module_version": "1.5.0",
            "_view_name": "HBoxView",
            "box_style": "",
            "children": [
              "IPY_MODEL_457e2dc9aa1a4247b0136b7f70e0e875",
              "IPY_MODEL_da20f293c2b24f348a9a7c01af51df59",
              "IPY_MODEL_3e31be41424a442aaf6e05212deb6a21"
            ],
            "layout": "IPY_MODEL_2d55b99c1faf4eabbc1c3e5a6e11eb51"
          }
        },
        "457e2dc9aa1a4247b0136b7f70e0e875": {
          "model_module": "@jupyter-widgets/controls",
          "model_name": "HTMLModel",
          "model_module_version": "1.5.0",
          "state": {
            "_dom_classes": [],
            "_model_module": "@jupyter-widgets/controls",
            "_model_module_version": "1.5.0",
            "_model_name": "HTMLModel",
            "_view_count": null,
            "_view_module": "@jupyter-widgets/controls",
            "_view_module_version": "1.5.0",
            "_view_name": "HTMLView",
            "description": "",
            "description_tooltip": null,
            "layout": "IPY_MODEL_82683d8d52cb4e229e32fac9694dd8ca",
            "placeholder": "​",
            "style": "IPY_MODEL_ae675f8f8b164bc686797c613ad41f5e",
            "value": "Downloading: 100%"
          }
        },
        "da20f293c2b24f348a9a7c01af51df59": {
          "model_module": "@jupyter-widgets/controls",
          "model_name": "FloatProgressModel",
          "model_module_version": "1.5.0",
          "state": {
            "_dom_classes": [],
            "_model_module": "@jupyter-widgets/controls",
            "_model_module_version": "1.5.0",
            "_model_name": "FloatProgressModel",
            "_view_count": null,
            "_view_module": "@jupyter-widgets/controls",
            "_view_module_version": "1.5.0",
            "_view_name": "ProgressView",
            "bar_style": "success",
            "description": "",
            "description_tooltip": null,
            "layout": "IPY_MODEL_8396592bc1b847d699eeffcabf3bbbe9",
            "max": 995526,
            "min": 0,
            "orientation": "horizontal",
            "style": "IPY_MODEL_1f40980a83a54919a2f7f2497e144731",
            "value": 995526
          }
        },
        "3e31be41424a442aaf6e05212deb6a21": {
          "model_module": "@jupyter-widgets/controls",
          "model_name": "HTMLModel",
          "model_module_version": "1.5.0",
          "state": {
            "_dom_classes": [],
            "_model_module": "@jupyter-widgets/controls",
            "_model_module_version": "1.5.0",
            "_model_name": "HTMLModel",
            "_view_count": null,
            "_view_module": "@jupyter-widgets/controls",
            "_view_module_version": "1.5.0",
            "_view_name": "HTMLView",
            "description": "",
            "description_tooltip": null,
            "layout": "IPY_MODEL_59c59073fb3148a888380064eaec23e6",
            "placeholder": "​",
            "style": "IPY_MODEL_dbdd1d39149b46fc8bd31fafdb399ac5",
            "value": " 996k/996k [00:00&lt;00:00, 2.89MB/s]"
          }
        },
        "2d55b99c1faf4eabbc1c3e5a6e11eb51": {
          "model_module": "@jupyter-widgets/base",
          "model_name": "LayoutModel",
          "model_module_version": "1.2.0",
          "state": {
            "_model_module": "@jupyter-widgets/base",
            "_model_module_version": "1.2.0",
            "_model_name": "LayoutModel",
            "_view_count": null,
            "_view_module": "@jupyter-widgets/base",
            "_view_module_version": "1.2.0",
            "_view_name": "LayoutView",
            "align_content": null,
            "align_items": null,
            "align_self": null,
            "border": null,
            "bottom": null,
            "display": null,
            "flex": null,
            "flex_flow": null,
            "grid_area": null,
            "grid_auto_columns": null,
            "grid_auto_flow": null,
            "grid_auto_rows": null,
            "grid_column": null,
            "grid_gap": null,
            "grid_row": null,
            "grid_template_areas": null,
            "grid_template_columns": null,
            "grid_template_rows": null,
            "height": null,
            "justify_content": null,
            "justify_items": null,
            "left": null,
            "margin": null,
            "max_height": null,
            "max_width": null,
            "min_height": null,
            "min_width": null,
            "object_fit": null,
            "object_position": null,
            "order": null,
            "overflow": null,
            "overflow_x": null,
            "overflow_y": null,
            "padding": null,
            "right": null,
            "top": null,
            "visibility": null,
            "width": null
          }
        },
        "82683d8d52cb4e229e32fac9694dd8ca": {
          "model_module": "@jupyter-widgets/base",
          "model_name": "LayoutModel",
          "model_module_version": "1.2.0",
          "state": {
            "_model_module": "@jupyter-widgets/base",
            "_model_module_version": "1.2.0",
            "_model_name": "LayoutModel",
            "_view_count": null,
            "_view_module": "@jupyter-widgets/base",
            "_view_module_version": "1.2.0",
            "_view_name": "LayoutView",
            "align_content": null,
            "align_items": null,
            "align_self": null,
            "border": null,
            "bottom": null,
            "display": null,
            "flex": null,
            "flex_flow": null,
            "grid_area": null,
            "grid_auto_columns": null,
            "grid_auto_flow": null,
            "grid_auto_rows": null,
            "grid_column": null,
            "grid_gap": null,
            "grid_row": null,
            "grid_template_areas": null,
            "grid_template_columns": null,
            "grid_template_rows": null,
            "height": null,
            "justify_content": null,
            "justify_items": null,
            "left": null,
            "margin": null,
            "max_height": null,
            "max_width": null,
            "min_height": null,
            "min_width": null,
            "object_fit": null,
            "object_position": null,
            "order": null,
            "overflow": null,
            "overflow_x": null,
            "overflow_y": null,
            "padding": null,
            "right": null,
            "top": null,
            "visibility": null,
            "width": null
          }
        },
        "ae675f8f8b164bc686797c613ad41f5e": {
          "model_module": "@jupyter-widgets/controls",
          "model_name": "DescriptionStyleModel",
          "model_module_version": "1.5.0",
          "state": {
            "_model_module": "@jupyter-widgets/controls",
            "_model_module_version": "1.5.0",
            "_model_name": "DescriptionStyleModel",
            "_view_count": null,
            "_view_module": "@jupyter-widgets/base",
            "_view_module_version": "1.2.0",
            "_view_name": "StyleView",
            "description_width": ""
          }
        },
        "8396592bc1b847d699eeffcabf3bbbe9": {
          "model_module": "@jupyter-widgets/base",
          "model_name": "LayoutModel",
          "model_module_version": "1.2.0",
          "state": {
            "_model_module": "@jupyter-widgets/base",
            "_model_module_version": "1.2.0",
            "_model_name": "LayoutModel",
            "_view_count": null,
            "_view_module": "@jupyter-widgets/base",
            "_view_module_version": "1.2.0",
            "_view_name": "LayoutView",
            "align_content": null,
            "align_items": null,
            "align_self": null,
            "border": null,
            "bottom": null,
            "display": null,
            "flex": null,
            "flex_flow": null,
            "grid_area": null,
            "grid_auto_columns": null,
            "grid_auto_flow": null,
            "grid_auto_rows": null,
            "grid_column": null,
            "grid_gap": null,
            "grid_row": null,
            "grid_template_areas": null,
            "grid_template_columns": null,
            "grid_template_rows": null,
            "height": null,
            "justify_content": null,
            "justify_items": null,
            "left": null,
            "margin": null,
            "max_height": null,
            "max_width": null,
            "min_height": null,
            "min_width": null,
            "object_fit": null,
            "object_position": null,
            "order": null,
            "overflow": null,
            "overflow_x": null,
            "overflow_y": null,
            "padding": null,
            "right": null,
            "top": null,
            "visibility": null,
            "width": null
          }
        },
        "1f40980a83a54919a2f7f2497e144731": {
          "model_module": "@jupyter-widgets/controls",
          "model_name": "ProgressStyleModel",
          "model_module_version": "1.5.0",
          "state": {
            "_model_module": "@jupyter-widgets/controls",
            "_model_module_version": "1.5.0",
            "_model_name": "ProgressStyleModel",
            "_view_count": null,
            "_view_module": "@jupyter-widgets/base",
            "_view_module_version": "1.2.0",
            "_view_name": "StyleView",
            "bar_color": null,
            "description_width": ""
          }
        },
        "59c59073fb3148a888380064eaec23e6": {
          "model_module": "@jupyter-widgets/base",
          "model_name": "LayoutModel",
          "model_module_version": "1.2.0",
          "state": {
            "_model_module": "@jupyter-widgets/base",
            "_model_module_version": "1.2.0",
            "_model_name": "LayoutModel",
            "_view_count": null,
            "_view_module": "@jupyter-widgets/base",
            "_view_module_version": "1.2.0",
            "_view_name": "LayoutView",
            "align_content": null,
            "align_items": null,
            "align_self": null,
            "border": null,
            "bottom": null,
            "display": null,
            "flex": null,
            "flex_flow": null,
            "grid_area": null,
            "grid_auto_columns": null,
            "grid_auto_flow": null,
            "grid_auto_rows": null,
            "grid_column": null,
            "grid_gap": null,
            "grid_row": null,
            "grid_template_areas": null,
            "grid_template_columns": null,
            "grid_template_rows": null,
            "height": null,
            "justify_content": null,
            "justify_items": null,
            "left": null,
            "margin": null,
            "max_height": null,
            "max_width": null,
            "min_height": null,
            "min_width": null,
            "object_fit": null,
            "object_position": null,
            "order": null,
            "overflow": null,
            "overflow_x": null,
            "overflow_y": null,
            "padding": null,
            "right": null,
            "top": null,
            "visibility": null,
            "width": null
          }
        },
        "dbdd1d39149b46fc8bd31fafdb399ac5": {
          "model_module": "@jupyter-widgets/controls",
          "model_name": "DescriptionStyleModel",
          "model_module_version": "1.5.0",
          "state": {
            "_model_module": "@jupyter-widgets/controls",
            "_model_module_version": "1.5.0",
            "_model_name": "DescriptionStyleModel",
            "_view_count": null,
            "_view_module": "@jupyter-widgets/base",
            "_view_module_version": "1.2.0",
            "_view_name": "StyleView",
            "description_width": ""
          }
        },
        "e73c7003fa614646af0064e297208749": {
          "model_module": "@jupyter-widgets/controls",
          "model_name": "HBoxModel",
          "model_module_version": "1.5.0",
          "state": {
            "_dom_classes": [],
            "_model_module": "@jupyter-widgets/controls",
            "_model_module_version": "1.5.0",
            "_model_name": "HBoxModel",
            "_view_count": null,
            "_view_module": "@jupyter-widgets/controls",
            "_view_module_version": "1.5.0",
            "_view_name": "HBoxView",
            "box_style": "",
            "children": [
              "IPY_MODEL_69b388276b2049c39631c6a1320d5592",
              "IPY_MODEL_35b8808accb04bb3b7e0702e9da99938",
              "IPY_MODEL_3f5ddf8663de4c8f88df8dd35a852de0"
            ],
            "layout": "IPY_MODEL_395f7d9d9be949ad87db0aaeb243adc4"
          }
        },
        "69b388276b2049c39631c6a1320d5592": {
          "model_module": "@jupyter-widgets/controls",
          "model_name": "HTMLModel",
          "model_module_version": "1.5.0",
          "state": {
            "_dom_classes": [],
            "_model_module": "@jupyter-widgets/controls",
            "_model_module_version": "1.5.0",
            "_model_name": "HTMLModel",
            "_view_count": null,
            "_view_module": "@jupyter-widgets/controls",
            "_view_module_version": "1.5.0",
            "_view_name": "HTMLView",
            "description": "",
            "description_tooltip": null,
            "layout": "IPY_MODEL_4c8f40385e984e109fa948a0dc32d322",
            "placeholder": "​",
            "style": "IPY_MODEL_522c38797a7249dd8bae92971894b625",
            "value": "Downloading: 100%"
          }
        },
        "35b8808accb04bb3b7e0702e9da99938": {
          "model_module": "@jupyter-widgets/controls",
          "model_name": "FloatProgressModel",
          "model_module_version": "1.5.0",
          "state": {
            "_dom_classes": [],
            "_model_module": "@jupyter-widgets/controls",
            "_model_module_version": "1.5.0",
            "_model_name": "FloatProgressModel",
            "_view_count": null,
            "_view_module": "@jupyter-widgets/controls",
            "_view_module_version": "1.5.0",
            "_view_name": "ProgressView",
            "bar_style": "success",
            "description": "",
            "description_tooltip": null,
            "layout": "IPY_MODEL_bb9e86a598e74a51a4445fab86ade746",
            "max": 504,
            "min": 0,
            "orientation": "horizontal",
            "style": "IPY_MODEL_011a17f278b44fb5ae6ecf0c860d2781",
            "value": 504
          }
        },
        "3f5ddf8663de4c8f88df8dd35a852de0": {
          "model_module": "@jupyter-widgets/controls",
          "model_name": "HTMLModel",
          "model_module_version": "1.5.0",
          "state": {
            "_dom_classes": [],
            "_model_module": "@jupyter-widgets/controls",
            "_model_module_version": "1.5.0",
            "_model_name": "HTMLModel",
            "_view_count": null,
            "_view_module": "@jupyter-widgets/controls",
            "_view_module_version": "1.5.0",
            "_view_name": "HTMLView",
            "description": "",
            "description_tooltip": null,
            "layout": "IPY_MODEL_1bef1de8ed2b4d1e82d779bd047fec38",
            "placeholder": "​",
            "style": "IPY_MODEL_a72c51dc73874961a5d97ea92274bc06",
            "value": " 504/504 [00:00&lt;00:00, 7.31kB/s]"
          }
        },
        "395f7d9d9be949ad87db0aaeb243adc4": {
          "model_module": "@jupyter-widgets/base",
          "model_name": "LayoutModel",
          "model_module_version": "1.2.0",
          "state": {
            "_model_module": "@jupyter-widgets/base",
            "_model_module_version": "1.2.0",
            "_model_name": "LayoutModel",
            "_view_count": null,
            "_view_module": "@jupyter-widgets/base",
            "_view_module_version": "1.2.0",
            "_view_name": "LayoutView",
            "align_content": null,
            "align_items": null,
            "align_self": null,
            "border": null,
            "bottom": null,
            "display": null,
            "flex": null,
            "flex_flow": null,
            "grid_area": null,
            "grid_auto_columns": null,
            "grid_auto_flow": null,
            "grid_auto_rows": null,
            "grid_column": null,
            "grid_gap": null,
            "grid_row": null,
            "grid_template_areas": null,
            "grid_template_columns": null,
            "grid_template_rows": null,
            "height": null,
            "justify_content": null,
            "justify_items": null,
            "left": null,
            "margin": null,
            "max_height": null,
            "max_width": null,
            "min_height": null,
            "min_width": null,
            "object_fit": null,
            "object_position": null,
            "order": null,
            "overflow": null,
            "overflow_x": null,
            "overflow_y": null,
            "padding": null,
            "right": null,
            "top": null,
            "visibility": null,
            "width": null
          }
        },
        "4c8f40385e984e109fa948a0dc32d322": {
          "model_module": "@jupyter-widgets/base",
          "model_name": "LayoutModel",
          "model_module_version": "1.2.0",
          "state": {
            "_model_module": "@jupyter-widgets/base",
            "_model_module_version": "1.2.0",
            "_model_name": "LayoutModel",
            "_view_count": null,
            "_view_module": "@jupyter-widgets/base",
            "_view_module_version": "1.2.0",
            "_view_name": "LayoutView",
            "align_content": null,
            "align_items": null,
            "align_self": null,
            "border": null,
            "bottom": null,
            "display": null,
            "flex": null,
            "flex_flow": null,
            "grid_area": null,
            "grid_auto_columns": null,
            "grid_auto_flow": null,
            "grid_auto_rows": null,
            "grid_column": null,
            "grid_gap": null,
            "grid_row": null,
            "grid_template_areas": null,
            "grid_template_columns": null,
            "grid_template_rows": null,
            "height": null,
            "justify_content": null,
            "justify_items": null,
            "left": null,
            "margin": null,
            "max_height": null,
            "max_width": null,
            "min_height": null,
            "min_width": null,
            "object_fit": null,
            "object_position": null,
            "order": null,
            "overflow": null,
            "overflow_x": null,
            "overflow_y": null,
            "padding": null,
            "right": null,
            "top": null,
            "visibility": null,
            "width": null
          }
        },
        "522c38797a7249dd8bae92971894b625": {
          "model_module": "@jupyter-widgets/controls",
          "model_name": "DescriptionStyleModel",
          "model_module_version": "1.5.0",
          "state": {
            "_model_module": "@jupyter-widgets/controls",
            "_model_module_version": "1.5.0",
            "_model_name": "DescriptionStyleModel",
            "_view_count": null,
            "_view_module": "@jupyter-widgets/base",
            "_view_module_version": "1.2.0",
            "_view_name": "StyleView",
            "description_width": ""
          }
        },
        "bb9e86a598e74a51a4445fab86ade746": {
          "model_module": "@jupyter-widgets/base",
          "model_name": "LayoutModel",
          "model_module_version": "1.2.0",
          "state": {
            "_model_module": "@jupyter-widgets/base",
            "_model_module_version": "1.2.0",
            "_model_name": "LayoutModel",
            "_view_count": null,
            "_view_module": "@jupyter-widgets/base",
            "_view_module_version": "1.2.0",
            "_view_name": "LayoutView",
            "align_content": null,
            "align_items": null,
            "align_self": null,
            "border": null,
            "bottom": null,
            "display": null,
            "flex": null,
            "flex_flow": null,
            "grid_area": null,
            "grid_auto_columns": null,
            "grid_auto_flow": null,
            "grid_auto_rows": null,
            "grid_column": null,
            "grid_gap": null,
            "grid_row": null,
            "grid_template_areas": null,
            "grid_template_columns": null,
            "grid_template_rows": null,
            "height": null,
            "justify_content": null,
            "justify_items": null,
            "left": null,
            "margin": null,
            "max_height": null,
            "max_width": null,
            "min_height": null,
            "min_width": null,
            "object_fit": null,
            "object_position": null,
            "order": null,
            "overflow": null,
            "overflow_x": null,
            "overflow_y": null,
            "padding": null,
            "right": null,
            "top": null,
            "visibility": null,
            "width": null
          }
        },
        "011a17f278b44fb5ae6ecf0c860d2781": {
          "model_module": "@jupyter-widgets/controls",
          "model_name": "ProgressStyleModel",
          "model_module_version": "1.5.0",
          "state": {
            "_model_module": "@jupyter-widgets/controls",
            "_model_module_version": "1.5.0",
            "_model_name": "ProgressStyleModel",
            "_view_count": null,
            "_view_module": "@jupyter-widgets/base",
            "_view_module_version": "1.2.0",
            "_view_name": "StyleView",
            "bar_color": null,
            "description_width": ""
          }
        },
        "1bef1de8ed2b4d1e82d779bd047fec38": {
          "model_module": "@jupyter-widgets/base",
          "model_name": "LayoutModel",
          "model_module_version": "1.2.0",
          "state": {
            "_model_module": "@jupyter-widgets/base",
            "_model_module_version": "1.2.0",
            "_model_name": "LayoutModel",
            "_view_count": null,
            "_view_module": "@jupyter-widgets/base",
            "_view_module_version": "1.2.0",
            "_view_name": "LayoutView",
            "align_content": null,
            "align_items": null,
            "align_self": null,
            "border": null,
            "bottom": null,
            "display": null,
            "flex": null,
            "flex_flow": null,
            "grid_area": null,
            "grid_auto_columns": null,
            "grid_auto_flow": null,
            "grid_auto_rows": null,
            "grid_column": null,
            "grid_gap": null,
            "grid_row": null,
            "grid_template_areas": null,
            "grid_template_columns": null,
            "grid_template_rows": null,
            "height": null,
            "justify_content": null,
            "justify_items": null,
            "left": null,
            "margin": null,
            "max_height": null,
            "max_width": null,
            "min_height": null,
            "min_width": null,
            "object_fit": null,
            "object_position": null,
            "order": null,
            "overflow": null,
            "overflow_x": null,
            "overflow_y": null,
            "padding": null,
            "right": null,
            "top": null,
            "visibility": null,
            "width": null
          }
        },
        "a72c51dc73874961a5d97ea92274bc06": {
          "model_module": "@jupyter-widgets/controls",
          "model_name": "DescriptionStyleModel",
          "model_module_version": "1.5.0",
          "state": {
            "_model_module": "@jupyter-widgets/controls",
            "_model_module_version": "1.5.0",
            "_model_name": "DescriptionStyleModel",
            "_view_count": null,
            "_view_module": "@jupyter-widgets/base",
            "_view_module_version": "1.2.0",
            "_view_name": "StyleView",
            "description_width": ""
          }
        },
        "2e6d85f0f67b417bb5b389a9cf6574b0": {
          "model_module": "@jupyter-widgets/controls",
          "model_name": "HBoxModel",
          "model_module_version": "1.5.0",
          "state": {
            "_dom_classes": [],
            "_model_module": "@jupyter-widgets/controls",
            "_model_module_version": "1.5.0",
            "_model_name": "HBoxModel",
            "_view_count": null,
            "_view_module": "@jupyter-widgets/controls",
            "_view_module_version": "1.5.0",
            "_view_name": "HBoxView",
            "box_style": "",
            "children": [
              "IPY_MODEL_b41245d8a3ad4cd2927f33a1bbe75b2a",
              "IPY_MODEL_77f8184bad584e90a110854c31f12640",
              "IPY_MODEL_fe42be74acf2449a8924ee66378d8605"
            ],
            "layout": "IPY_MODEL_7f2d1a86b4114485baef9a3741588820"
          }
        },
        "b41245d8a3ad4cd2927f33a1bbe75b2a": {
          "model_module": "@jupyter-widgets/controls",
          "model_name": "HTMLModel",
          "model_module_version": "1.5.0",
          "state": {
            "_dom_classes": [],
            "_model_module": "@jupyter-widgets/controls",
            "_model_module_version": "1.5.0",
            "_model_name": "HTMLModel",
            "_view_count": null,
            "_view_module": "@jupyter-widgets/controls",
            "_view_module_version": "1.5.0",
            "_view_name": "HTMLView",
            "description": "",
            "description_tooltip": null,
            "layout": "IPY_MODEL_27d2b9ca8738487a9e2cc67e21816cec",
            "placeholder": "​",
            "style": "IPY_MODEL_adef15f9ab0c40098fc7cf0f7ca1c471",
            "value": "Downloading: 100%"
          }
        },
        "77f8184bad584e90a110854c31f12640": {
          "model_module": "@jupyter-widgets/controls",
          "model_name": "FloatProgressModel",
          "model_module_version": "1.5.0",
          "state": {
            "_dom_classes": [],
            "_model_module": "@jupyter-widgets/controls",
            "_model_module_version": "1.5.0",
            "_model_name": "FloatProgressModel",
            "_view_count": null,
            "_view_module": "@jupyter-widgets/controls",
            "_view_module_version": "1.5.0",
            "_view_name": "ProgressView",
            "bar_style": "success",
            "description": "",
            "description_tooltip": null,
            "layout": "IPY_MODEL_c46f49ac60d143bdadea04ed30f6a988",
            "max": 498271049,
            "min": 0,
            "orientation": "horizontal",
            "style": "IPY_MODEL_d69f39b43a374e9eb2fd5fec71486990",
            "value": 498271049
          }
        },
        "fe42be74acf2449a8924ee66378d8605": {
          "model_module": "@jupyter-widgets/controls",
          "model_name": "HTMLModel",
          "model_module_version": "1.5.0",
          "state": {
            "_dom_classes": [],
            "_model_module": "@jupyter-widgets/controls",
            "_model_module_version": "1.5.0",
            "_model_name": "HTMLModel",
            "_view_count": null,
            "_view_module": "@jupyter-widgets/controls",
            "_view_module_version": "1.5.0",
            "_view_name": "HTMLView",
            "description": "",
            "description_tooltip": null,
            "layout": "IPY_MODEL_3008000ad7d0434c9170b6739bbe83e9",
            "placeholder": "​",
            "style": "IPY_MODEL_7b6e26ad66ac45aaba0848e14735d317",
            "value": " 498M/498M [00:09&lt;00:00, 54.9MB/s]"
          }
        },
        "7f2d1a86b4114485baef9a3741588820": {
          "model_module": "@jupyter-widgets/base",
          "model_name": "LayoutModel",
          "model_module_version": "1.2.0",
          "state": {
            "_model_module": "@jupyter-widgets/base",
            "_model_module_version": "1.2.0",
            "_model_name": "LayoutModel",
            "_view_count": null,
            "_view_module": "@jupyter-widgets/base",
            "_view_module_version": "1.2.0",
            "_view_name": "LayoutView",
            "align_content": null,
            "align_items": null,
            "align_self": null,
            "border": null,
            "bottom": null,
            "display": null,
            "flex": null,
            "flex_flow": null,
            "grid_area": null,
            "grid_auto_columns": null,
            "grid_auto_flow": null,
            "grid_auto_rows": null,
            "grid_column": null,
            "grid_gap": null,
            "grid_row": null,
            "grid_template_areas": null,
            "grid_template_columns": null,
            "grid_template_rows": null,
            "height": null,
            "justify_content": null,
            "justify_items": null,
            "left": null,
            "margin": null,
            "max_height": null,
            "max_width": null,
            "min_height": null,
            "min_width": null,
            "object_fit": null,
            "object_position": null,
            "order": null,
            "overflow": null,
            "overflow_x": null,
            "overflow_y": null,
            "padding": null,
            "right": null,
            "top": null,
            "visibility": null,
            "width": null
          }
        },
        "27d2b9ca8738487a9e2cc67e21816cec": {
          "model_module": "@jupyter-widgets/base",
          "model_name": "LayoutModel",
          "model_module_version": "1.2.0",
          "state": {
            "_model_module": "@jupyter-widgets/base",
            "_model_module_version": "1.2.0",
            "_model_name": "LayoutModel",
            "_view_count": null,
            "_view_module": "@jupyter-widgets/base",
            "_view_module_version": "1.2.0",
            "_view_name": "LayoutView",
            "align_content": null,
            "align_items": null,
            "align_self": null,
            "border": null,
            "bottom": null,
            "display": null,
            "flex": null,
            "flex_flow": null,
            "grid_area": null,
            "grid_auto_columns": null,
            "grid_auto_flow": null,
            "grid_auto_rows": null,
            "grid_column": null,
            "grid_gap": null,
            "grid_row": null,
            "grid_template_areas": null,
            "grid_template_columns": null,
            "grid_template_rows": null,
            "height": null,
            "justify_content": null,
            "justify_items": null,
            "left": null,
            "margin": null,
            "max_height": null,
            "max_width": null,
            "min_height": null,
            "min_width": null,
            "object_fit": null,
            "object_position": null,
            "order": null,
            "overflow": null,
            "overflow_x": null,
            "overflow_y": null,
            "padding": null,
            "right": null,
            "top": null,
            "visibility": null,
            "width": null
          }
        },
        "adef15f9ab0c40098fc7cf0f7ca1c471": {
          "model_module": "@jupyter-widgets/controls",
          "model_name": "DescriptionStyleModel",
          "model_module_version": "1.5.0",
          "state": {
            "_model_module": "@jupyter-widgets/controls",
            "_model_module_version": "1.5.0",
            "_model_name": "DescriptionStyleModel",
            "_view_count": null,
            "_view_module": "@jupyter-widgets/base",
            "_view_module_version": "1.2.0",
            "_view_name": "StyleView",
            "description_width": ""
          }
        },
        "c46f49ac60d143bdadea04ed30f6a988": {
          "model_module": "@jupyter-widgets/base",
          "model_name": "LayoutModel",
          "model_module_version": "1.2.0",
          "state": {
            "_model_module": "@jupyter-widgets/base",
            "_model_module_version": "1.2.0",
            "_model_name": "LayoutModel",
            "_view_count": null,
            "_view_module": "@jupyter-widgets/base",
            "_view_module_version": "1.2.0",
            "_view_name": "LayoutView",
            "align_content": null,
            "align_items": null,
            "align_self": null,
            "border": null,
            "bottom": null,
            "display": null,
            "flex": null,
            "flex_flow": null,
            "grid_area": null,
            "grid_auto_columns": null,
            "grid_auto_flow": null,
            "grid_auto_rows": null,
            "grid_column": null,
            "grid_gap": null,
            "grid_row": null,
            "grid_template_areas": null,
            "grid_template_columns": null,
            "grid_template_rows": null,
            "height": null,
            "justify_content": null,
            "justify_items": null,
            "left": null,
            "margin": null,
            "max_height": null,
            "max_width": null,
            "min_height": null,
            "min_width": null,
            "object_fit": null,
            "object_position": null,
            "order": null,
            "overflow": null,
            "overflow_x": null,
            "overflow_y": null,
            "padding": null,
            "right": null,
            "top": null,
            "visibility": null,
            "width": null
          }
        },
        "d69f39b43a374e9eb2fd5fec71486990": {
          "model_module": "@jupyter-widgets/controls",
          "model_name": "ProgressStyleModel",
          "model_module_version": "1.5.0",
          "state": {
            "_model_module": "@jupyter-widgets/controls",
            "_model_module_version": "1.5.0",
            "_model_name": "ProgressStyleModel",
            "_view_count": null,
            "_view_module": "@jupyter-widgets/base",
            "_view_module_version": "1.2.0",
            "_view_name": "StyleView",
            "bar_color": null,
            "description_width": ""
          }
        },
        "3008000ad7d0434c9170b6739bbe83e9": {
          "model_module": "@jupyter-widgets/base",
          "model_name": "LayoutModel",
          "model_module_version": "1.2.0",
          "state": {
            "_model_module": "@jupyter-widgets/base",
            "_model_module_version": "1.2.0",
            "_model_name": "LayoutModel",
            "_view_count": null,
            "_view_module": "@jupyter-widgets/base",
            "_view_module_version": "1.2.0",
            "_view_name": "LayoutView",
            "align_content": null,
            "align_items": null,
            "align_self": null,
            "border": null,
            "bottom": null,
            "display": null,
            "flex": null,
            "flex_flow": null,
            "grid_area": null,
            "grid_auto_columns": null,
            "grid_auto_flow": null,
            "grid_auto_rows": null,
            "grid_column": null,
            "grid_gap": null,
            "grid_row": null,
            "grid_template_areas": null,
            "grid_template_columns": null,
            "grid_template_rows": null,
            "height": null,
            "justify_content": null,
            "justify_items": null,
            "left": null,
            "margin": null,
            "max_height": null,
            "max_width": null,
            "min_height": null,
            "min_width": null,
            "object_fit": null,
            "object_position": null,
            "order": null,
            "overflow": null,
            "overflow_x": null,
            "overflow_y": null,
            "padding": null,
            "right": null,
            "top": null,
            "visibility": null,
            "width": null
          }
        },
        "7b6e26ad66ac45aaba0848e14735d317": {
          "model_module": "@jupyter-widgets/controls",
          "model_name": "DescriptionStyleModel",
          "model_module_version": "1.5.0",
          "state": {
            "_model_module": "@jupyter-widgets/controls",
            "_model_module_version": "1.5.0",
            "_model_name": "DescriptionStyleModel",
            "_view_count": null,
            "_view_module": "@jupyter-widgets/base",
            "_view_module_version": "1.2.0",
            "_view_name": "StyleView",
            "description_width": ""
          }
        },
        "caf07c3dfdab4eb88b3607c7d0a5e992": {
          "model_module": "@jupyter-widgets/controls",
          "model_name": "HBoxModel",
          "model_module_version": "1.5.0",
          "state": {
            "_dom_classes": [],
            "_model_module": "@jupyter-widgets/controls",
            "_model_module_version": "1.5.0",
            "_model_name": "HBoxModel",
            "_view_count": null,
            "_view_module": "@jupyter-widgets/controls",
            "_view_module_version": "1.5.0",
            "_view_name": "HBoxView",
            "box_style": "",
            "children": [
              "IPY_MODEL_c8da875330f948a2bd587c0d1150160e",
              "IPY_MODEL_ecc3c4824bc94cd0ad52de059e8e5538",
              "IPY_MODEL_090f6e9d4a054efda5d0cc22143f567a"
            ],
            "layout": "IPY_MODEL_bd87923d01d7408493df180047af32de"
          }
        },
        "c8da875330f948a2bd587c0d1150160e": {
          "model_module": "@jupyter-widgets/controls",
          "model_name": "HTMLModel",
          "model_module_version": "1.5.0",
          "state": {
            "_dom_classes": [],
            "_model_module": "@jupyter-widgets/controls",
            "_model_module_version": "1.5.0",
            "_model_name": "HTMLModel",
            "_view_count": null,
            "_view_module": "@jupyter-widgets/controls",
            "_view_module_version": "1.5.0",
            "_view_name": "HTMLView",
            "description": "",
            "description_tooltip": null,
            "layout": "IPY_MODEL_329116ae0f6142e1a6ac64fab28e803a",
            "placeholder": "​",
            "style": "IPY_MODEL_34d582ea6c6e462f879a04e6b1c47b88",
            "value": "Downloading: 100%"
          }
        },
        "ecc3c4824bc94cd0ad52de059e8e5538": {
          "model_module": "@jupyter-widgets/controls",
          "model_name": "FloatProgressModel",
          "model_module_version": "1.5.0",
          "state": {
            "_dom_classes": [],
            "_model_module": "@jupyter-widgets/controls",
            "_model_module_version": "1.5.0",
            "_model_name": "FloatProgressModel",
            "_view_count": null,
            "_view_module": "@jupyter-widgets/controls",
            "_view_module_version": "1.5.0",
            "_view_name": "ProgressView",
            "bar_style": "success",
            "description": "",
            "description_tooltip": null,
            "layout": "IPY_MODEL_7937239cf03d45c9ab5f8d5546cd24f3",
            "max": 288,
            "min": 0,
            "orientation": "horizontal",
            "style": "IPY_MODEL_0d5a27d4309f4f63add307ae118be114",
            "value": 288
          }
        },
        "090f6e9d4a054efda5d0cc22143f567a": {
          "model_module": "@jupyter-widgets/controls",
          "model_name": "HTMLModel",
          "model_module_version": "1.5.0",
          "state": {
            "_dom_classes": [],
            "_model_module": "@jupyter-widgets/controls",
            "_model_module_version": "1.5.0",
            "_model_name": "HTMLModel",
            "_view_count": null,
            "_view_module": "@jupyter-widgets/controls",
            "_view_module_version": "1.5.0",
            "_view_name": "HTMLView",
            "description": "",
            "description_tooltip": null,
            "layout": "IPY_MODEL_a7d5e9197fb340c9a7bd76452fcf0e5a",
            "placeholder": "​",
            "style": "IPY_MODEL_58f2a7da149445699a6c64a5ae4a580c",
            "value": " 288/288 [00:00&lt;00:00, 7.80kB/s]"
          }
        },
        "bd87923d01d7408493df180047af32de": {
          "model_module": "@jupyter-widgets/base",
          "model_name": "LayoutModel",
          "model_module_version": "1.2.0",
          "state": {
            "_model_module": "@jupyter-widgets/base",
            "_model_module_version": "1.2.0",
            "_model_name": "LayoutModel",
            "_view_count": null,
            "_view_module": "@jupyter-widgets/base",
            "_view_module_version": "1.2.0",
            "_view_name": "LayoutView",
            "align_content": null,
            "align_items": null,
            "align_self": null,
            "border": null,
            "bottom": null,
            "display": null,
            "flex": null,
            "flex_flow": null,
            "grid_area": null,
            "grid_auto_columns": null,
            "grid_auto_flow": null,
            "grid_auto_rows": null,
            "grid_column": null,
            "grid_gap": null,
            "grid_row": null,
            "grid_template_areas": null,
            "grid_template_columns": null,
            "grid_template_rows": null,
            "height": null,
            "justify_content": null,
            "justify_items": null,
            "left": null,
            "margin": null,
            "max_height": null,
            "max_width": null,
            "min_height": null,
            "min_width": null,
            "object_fit": null,
            "object_position": null,
            "order": null,
            "overflow": null,
            "overflow_x": null,
            "overflow_y": null,
            "padding": null,
            "right": null,
            "top": null,
            "visibility": null,
            "width": null
          }
        },
        "329116ae0f6142e1a6ac64fab28e803a": {
          "model_module": "@jupyter-widgets/base",
          "model_name": "LayoutModel",
          "model_module_version": "1.2.0",
          "state": {
            "_model_module": "@jupyter-widgets/base",
            "_model_module_version": "1.2.0",
            "_model_name": "LayoutModel",
            "_view_count": null,
            "_view_module": "@jupyter-widgets/base",
            "_view_module_version": "1.2.0",
            "_view_name": "LayoutView",
            "align_content": null,
            "align_items": null,
            "align_self": null,
            "border": null,
            "bottom": null,
            "display": null,
            "flex": null,
            "flex_flow": null,
            "grid_area": null,
            "grid_auto_columns": null,
            "grid_auto_flow": null,
            "grid_auto_rows": null,
            "grid_column": null,
            "grid_gap": null,
            "grid_row": null,
            "grid_template_areas": null,
            "grid_template_columns": null,
            "grid_template_rows": null,
            "height": null,
            "justify_content": null,
            "justify_items": null,
            "left": null,
            "margin": null,
            "max_height": null,
            "max_width": null,
            "min_height": null,
            "min_width": null,
            "object_fit": null,
            "object_position": null,
            "order": null,
            "overflow": null,
            "overflow_x": null,
            "overflow_y": null,
            "padding": null,
            "right": null,
            "top": null,
            "visibility": null,
            "width": null
          }
        },
        "34d582ea6c6e462f879a04e6b1c47b88": {
          "model_module": "@jupyter-widgets/controls",
          "model_name": "DescriptionStyleModel",
          "model_module_version": "1.5.0",
          "state": {
            "_model_module": "@jupyter-widgets/controls",
            "_model_module_version": "1.5.0",
            "_model_name": "DescriptionStyleModel",
            "_view_count": null,
            "_view_module": "@jupyter-widgets/base",
            "_view_module_version": "1.2.0",
            "_view_name": "StyleView",
            "description_width": ""
          }
        },
        "7937239cf03d45c9ab5f8d5546cd24f3": {
          "model_module": "@jupyter-widgets/base",
          "model_name": "LayoutModel",
          "model_module_version": "1.2.0",
          "state": {
            "_model_module": "@jupyter-widgets/base",
            "_model_module_version": "1.2.0",
            "_model_name": "LayoutModel",
            "_view_count": null,
            "_view_module": "@jupyter-widgets/base",
            "_view_module_version": "1.2.0",
            "_view_name": "LayoutView",
            "align_content": null,
            "align_items": null,
            "align_self": null,
            "border": null,
            "bottom": null,
            "display": null,
            "flex": null,
            "flex_flow": null,
            "grid_area": null,
            "grid_auto_columns": null,
            "grid_auto_flow": null,
            "grid_auto_rows": null,
            "grid_column": null,
            "grid_gap": null,
            "grid_row": null,
            "grid_template_areas": null,
            "grid_template_columns": null,
            "grid_template_rows": null,
            "height": null,
            "justify_content": null,
            "justify_items": null,
            "left": null,
            "margin": null,
            "max_height": null,
            "max_width": null,
            "min_height": null,
            "min_width": null,
            "object_fit": null,
            "object_position": null,
            "order": null,
            "overflow": null,
            "overflow_x": null,
            "overflow_y": null,
            "padding": null,
            "right": null,
            "top": null,
            "visibility": null,
            "width": null
          }
        },
        "0d5a27d4309f4f63add307ae118be114": {
          "model_module": "@jupyter-widgets/controls",
          "model_name": "ProgressStyleModel",
          "model_module_version": "1.5.0",
          "state": {
            "_model_module": "@jupyter-widgets/controls",
            "_model_module_version": "1.5.0",
            "_model_name": "ProgressStyleModel",
            "_view_count": null,
            "_view_module": "@jupyter-widgets/base",
            "_view_module_version": "1.2.0",
            "_view_name": "StyleView",
            "bar_color": null,
            "description_width": ""
          }
        },
        "a7d5e9197fb340c9a7bd76452fcf0e5a": {
          "model_module": "@jupyter-widgets/base",
          "model_name": "LayoutModel",
          "model_module_version": "1.2.0",
          "state": {
            "_model_module": "@jupyter-widgets/base",
            "_model_module_version": "1.2.0",
            "_model_name": "LayoutModel",
            "_view_count": null,
            "_view_module": "@jupyter-widgets/base",
            "_view_module_version": "1.2.0",
            "_view_name": "LayoutView",
            "align_content": null,
            "align_items": null,
            "align_self": null,
            "border": null,
            "bottom": null,
            "display": null,
            "flex": null,
            "flex_flow": null,
            "grid_area": null,
            "grid_auto_columns": null,
            "grid_auto_flow": null,
            "grid_auto_rows": null,
            "grid_column": null,
            "grid_gap": null,
            "grid_row": null,
            "grid_template_areas": null,
            "grid_template_columns": null,
            "grid_template_rows": null,
            "height": null,
            "justify_content": null,
            "justify_items": null,
            "left": null,
            "margin": null,
            "max_height": null,
            "max_width": null,
            "min_height": null,
            "min_width": null,
            "object_fit": null,
            "object_position": null,
            "order": null,
            "overflow": null,
            "overflow_x": null,
            "overflow_y": null,
            "padding": null,
            "right": null,
            "top": null,
            "visibility": null,
            "width": null
          }
        },
        "58f2a7da149445699a6c64a5ae4a580c": {
          "model_module": "@jupyter-widgets/controls",
          "model_name": "DescriptionStyleModel",
          "model_module_version": "1.5.0",
          "state": {
            "_model_module": "@jupyter-widgets/controls",
            "_model_module_version": "1.5.0",
            "_model_name": "DescriptionStyleModel",
            "_view_count": null,
            "_view_module": "@jupyter-widgets/base",
            "_view_module_version": "1.2.0",
            "_view_name": "StyleView",
            "description_width": ""
          }
        },
        "b3a9ccfa7ed04017836a05f6f08447fe": {
          "model_module": "@jupyter-widgets/controls",
          "model_name": "HBoxModel",
          "model_module_version": "1.5.0",
          "state": {
            "_dom_classes": [],
            "_model_module": "@jupyter-widgets/controls",
            "_model_module_version": "1.5.0",
            "_model_name": "HBoxModel",
            "_view_count": null,
            "_view_module": "@jupyter-widgets/controls",
            "_view_module_version": "1.5.0",
            "_view_name": "HBoxView",
            "box_style": "",
            "children": [
              "IPY_MODEL_9cee9df816b54d508fb18eebbeffaaa2",
              "IPY_MODEL_8aec9578ef2f4c4184621e049b719d97",
              "IPY_MODEL_c5a856bdd616416d8143b997a9519d4e"
            ],
            "layout": "IPY_MODEL_e15426a92af24c39a6e294529b888f8c"
          }
        },
        "9cee9df816b54d508fb18eebbeffaaa2": {
          "model_module": "@jupyter-widgets/controls",
          "model_name": "HTMLModel",
          "model_module_version": "1.5.0",
          "state": {
            "_dom_classes": [],
            "_model_module": "@jupyter-widgets/controls",
            "_model_module_version": "1.5.0",
            "_model_name": "HTMLModel",
            "_view_count": null,
            "_view_module": "@jupyter-widgets/controls",
            "_view_module_version": "1.5.0",
            "_view_name": "HTMLView",
            "description": "",
            "description_tooltip": null,
            "layout": "IPY_MODEL_02b00cdab65145b6b8f257f2b9c83741",
            "placeholder": "​",
            "style": "IPY_MODEL_ed22a5e14d5e4c78830889319d84a5e5",
            "value": "Downloading: 100%"
          }
        },
        "8aec9578ef2f4c4184621e049b719d97": {
          "model_module": "@jupyter-widgets/controls",
          "model_name": "FloatProgressModel",
          "model_module_version": "1.5.0",
          "state": {
            "_dom_classes": [],
            "_model_module": "@jupyter-widgets/controls",
            "_model_module_version": "1.5.0",
            "_model_name": "FloatProgressModel",
            "_view_count": null,
            "_view_module": "@jupyter-widgets/controls",
            "_view_module_version": "1.5.0",
            "_view_name": "ProgressView",
            "bar_style": "success",
            "description": "",
            "description_tooltip": null,
            "layout": "IPY_MODEL_fdd4e75243c244cc9d72be2dc8716286",
            "max": 396417,
            "min": 0,
            "orientation": "horizontal",
            "style": "IPY_MODEL_4629b4d673344deb8b6797a2f48e6ef3",
            "value": 396417
          }
        },
        "c5a856bdd616416d8143b997a9519d4e": {
          "model_module": "@jupyter-widgets/controls",
          "model_name": "HTMLModel",
          "model_module_version": "1.5.0",
          "state": {
            "_dom_classes": [],
            "_model_module": "@jupyter-widgets/controls",
            "_model_module_version": "1.5.0",
            "_model_name": "HTMLModel",
            "_view_count": null,
            "_view_module": "@jupyter-widgets/controls",
            "_view_module_version": "1.5.0",
            "_view_name": "HTMLView",
            "description": "",
            "description_tooltip": null,
            "layout": "IPY_MODEL_572a38084cb0488abf582dacac9c53e5",
            "placeholder": "​",
            "style": "IPY_MODEL_86618c22303f4fc69dc17f653c620308",
            "value": " 396k/396k [00:00&lt;00:00, 598kB/s]"
          }
        },
        "e15426a92af24c39a6e294529b888f8c": {
          "model_module": "@jupyter-widgets/base",
          "model_name": "LayoutModel",
          "model_module_version": "1.2.0",
          "state": {
            "_model_module": "@jupyter-widgets/base",
            "_model_module_version": "1.2.0",
            "_model_name": "LayoutModel",
            "_view_count": null,
            "_view_module": "@jupyter-widgets/base",
            "_view_module_version": "1.2.0",
            "_view_name": "LayoutView",
            "align_content": null,
            "align_items": null,
            "align_self": null,
            "border": null,
            "bottom": null,
            "display": null,
            "flex": null,
            "flex_flow": null,
            "grid_area": null,
            "grid_auto_columns": null,
            "grid_auto_flow": null,
            "grid_auto_rows": null,
            "grid_column": null,
            "grid_gap": null,
            "grid_row": null,
            "grid_template_areas": null,
            "grid_template_columns": null,
            "grid_template_rows": null,
            "height": null,
            "justify_content": null,
            "justify_items": null,
            "left": null,
            "margin": null,
            "max_height": null,
            "max_width": null,
            "min_height": null,
            "min_width": null,
            "object_fit": null,
            "object_position": null,
            "order": null,
            "overflow": null,
            "overflow_x": null,
            "overflow_y": null,
            "padding": null,
            "right": null,
            "top": null,
            "visibility": null,
            "width": null
          }
        },
        "02b00cdab65145b6b8f257f2b9c83741": {
          "model_module": "@jupyter-widgets/base",
          "model_name": "LayoutModel",
          "model_module_version": "1.2.0",
          "state": {
            "_model_module": "@jupyter-widgets/base",
            "_model_module_version": "1.2.0",
            "_model_name": "LayoutModel",
            "_view_count": null,
            "_view_module": "@jupyter-widgets/base",
            "_view_module_version": "1.2.0",
            "_view_name": "LayoutView",
            "align_content": null,
            "align_items": null,
            "align_self": null,
            "border": null,
            "bottom": null,
            "display": null,
            "flex": null,
            "flex_flow": null,
            "grid_area": null,
            "grid_auto_columns": null,
            "grid_auto_flow": null,
            "grid_auto_rows": null,
            "grid_column": null,
            "grid_gap": null,
            "grid_row": null,
            "grid_template_areas": null,
            "grid_template_columns": null,
            "grid_template_rows": null,
            "height": null,
            "justify_content": null,
            "justify_items": null,
            "left": null,
            "margin": null,
            "max_height": null,
            "max_width": null,
            "min_height": null,
            "min_width": null,
            "object_fit": null,
            "object_position": null,
            "order": null,
            "overflow": null,
            "overflow_x": null,
            "overflow_y": null,
            "padding": null,
            "right": null,
            "top": null,
            "visibility": null,
            "width": null
          }
        },
        "ed22a5e14d5e4c78830889319d84a5e5": {
          "model_module": "@jupyter-widgets/controls",
          "model_name": "DescriptionStyleModel",
          "model_module_version": "1.5.0",
          "state": {
            "_model_module": "@jupyter-widgets/controls",
            "_model_module_version": "1.5.0",
            "_model_name": "DescriptionStyleModel",
            "_view_count": null,
            "_view_module": "@jupyter-widgets/base",
            "_view_module_version": "1.2.0",
            "_view_name": "StyleView",
            "description_width": ""
          }
        },
        "fdd4e75243c244cc9d72be2dc8716286": {
          "model_module": "@jupyter-widgets/base",
          "model_name": "LayoutModel",
          "model_module_version": "1.2.0",
          "state": {
            "_model_module": "@jupyter-widgets/base",
            "_model_module_version": "1.2.0",
            "_model_name": "LayoutModel",
            "_view_count": null,
            "_view_module": "@jupyter-widgets/base",
            "_view_module_version": "1.2.0",
            "_view_name": "LayoutView",
            "align_content": null,
            "align_items": null,
            "align_self": null,
            "border": null,
            "bottom": null,
            "display": null,
            "flex": null,
            "flex_flow": null,
            "grid_area": null,
            "grid_auto_columns": null,
            "grid_auto_flow": null,
            "grid_auto_rows": null,
            "grid_column": null,
            "grid_gap": null,
            "grid_row": null,
            "grid_template_areas": null,
            "grid_template_columns": null,
            "grid_template_rows": null,
            "height": null,
            "justify_content": null,
            "justify_items": null,
            "left": null,
            "margin": null,
            "max_height": null,
            "max_width": null,
            "min_height": null,
            "min_width": null,
            "object_fit": null,
            "object_position": null,
            "order": null,
            "overflow": null,
            "overflow_x": null,
            "overflow_y": null,
            "padding": null,
            "right": null,
            "top": null,
            "visibility": null,
            "width": null
          }
        },
        "4629b4d673344deb8b6797a2f48e6ef3": {
          "model_module": "@jupyter-widgets/controls",
          "model_name": "ProgressStyleModel",
          "model_module_version": "1.5.0",
          "state": {
            "_model_module": "@jupyter-widgets/controls",
            "_model_module_version": "1.5.0",
            "_model_name": "ProgressStyleModel",
            "_view_count": null,
            "_view_module": "@jupyter-widgets/base",
            "_view_module_version": "1.2.0",
            "_view_name": "StyleView",
            "bar_color": null,
            "description_width": ""
          }
        },
        "572a38084cb0488abf582dacac9c53e5": {
          "model_module": "@jupyter-widgets/base",
          "model_name": "LayoutModel",
          "model_module_version": "1.2.0",
          "state": {
            "_model_module": "@jupyter-widgets/base",
            "_model_module_version": "1.2.0",
            "_model_name": "LayoutModel",
            "_view_count": null,
            "_view_module": "@jupyter-widgets/base",
            "_view_module_version": "1.2.0",
            "_view_name": "LayoutView",
            "align_content": null,
            "align_items": null,
            "align_self": null,
            "border": null,
            "bottom": null,
            "display": null,
            "flex": null,
            "flex_flow": null,
            "grid_area": null,
            "grid_auto_columns": null,
            "grid_auto_flow": null,
            "grid_auto_rows": null,
            "grid_column": null,
            "grid_gap": null,
            "grid_row": null,
            "grid_template_areas": null,
            "grid_template_columns": null,
            "grid_template_rows": null,
            "height": null,
            "justify_content": null,
            "justify_items": null,
            "left": null,
            "margin": null,
            "max_height": null,
            "max_width": null,
            "min_height": null,
            "min_width": null,
            "object_fit": null,
            "object_position": null,
            "order": null,
            "overflow": null,
            "overflow_x": null,
            "overflow_y": null,
            "padding": null,
            "right": null,
            "top": null,
            "visibility": null,
            "width": null
          }
        },
        "86618c22303f4fc69dc17f653c620308": {
          "model_module": "@jupyter-widgets/controls",
          "model_name": "DescriptionStyleModel",
          "model_module_version": "1.5.0",
          "state": {
            "_model_module": "@jupyter-widgets/controls",
            "_model_module_version": "1.5.0",
            "_model_name": "DescriptionStyleModel",
            "_view_count": null,
            "_view_module": "@jupyter-widgets/base",
            "_view_module_version": "1.2.0",
            "_view_name": "StyleView",
            "description_width": ""
          }
        },
        "ce69f52a3f084874a13487e5ea219b6c": {
          "model_module": "@jupyter-widgets/controls",
          "model_name": "HBoxModel",
          "model_module_version": "1.5.0",
          "state": {
            "_dom_classes": [],
            "_model_module": "@jupyter-widgets/controls",
            "_model_module_version": "1.5.0",
            "_model_name": "HBoxModel",
            "_view_count": null,
            "_view_module": "@jupyter-widgets/controls",
            "_view_module_version": "1.5.0",
            "_view_name": "HBoxView",
            "box_style": "",
            "children": [
              "IPY_MODEL_4e4d4946e96244a7abc9a5d5cc9a96d1",
              "IPY_MODEL_d11a7ba88d01477da6c2ddfc4717a0d8",
              "IPY_MODEL_94309638bc0b498d8a59a28656aa3e72"
            ],
            "layout": "IPY_MODEL_df2c90cc57b94c50a523885daaee7e37"
          }
        },
        "4e4d4946e96244a7abc9a5d5cc9a96d1": {
          "model_module": "@jupyter-widgets/controls",
          "model_name": "HTMLModel",
          "model_module_version": "1.5.0",
          "state": {
            "_dom_classes": [],
            "_model_module": "@jupyter-widgets/controls",
            "_model_module_version": "1.5.0",
            "_model_name": "HTMLModel",
            "_view_count": null,
            "_view_module": "@jupyter-widgets/controls",
            "_view_module_version": "1.5.0",
            "_view_name": "HTMLView",
            "description": "",
            "description_tooltip": null,
            "layout": "IPY_MODEL_b6c9a11cab304670bad7cbfd4113ddf9",
            "placeholder": "​",
            "style": "IPY_MODEL_d85042f226df43c1957c9e9d6fca4e55",
            "value": "Downloading: 100%"
          }
        },
        "d11a7ba88d01477da6c2ddfc4717a0d8": {
          "model_module": "@jupyter-widgets/controls",
          "model_name": "FloatProgressModel",
          "model_module_version": "1.5.0",
          "state": {
            "_dom_classes": [],
            "_model_module": "@jupyter-widgets/controls",
            "_model_module_version": "1.5.0",
            "_model_name": "FloatProgressModel",
            "_view_count": null,
            "_view_module": "@jupyter-widgets/controls",
            "_view_module_version": "1.5.0",
            "_view_name": "ProgressView",
            "bar_style": "success",
            "description": "",
            "description_tooltip": null,
            "layout": "IPY_MODEL_5fc4cfc327154bca94f5bc1064339908",
            "max": 124,
            "min": 0,
            "orientation": "horizontal",
            "style": "IPY_MODEL_62287d591c3f45219374ca287241ebc0",
            "value": 124
          }
        },
        "94309638bc0b498d8a59a28656aa3e72": {
          "model_module": "@jupyter-widgets/controls",
          "model_name": "HTMLModel",
          "model_module_version": "1.5.0",
          "state": {
            "_dom_classes": [],
            "_model_module": "@jupyter-widgets/controls",
            "_model_module_version": "1.5.0",
            "_model_name": "HTMLModel",
            "_view_count": null,
            "_view_module": "@jupyter-widgets/controls",
            "_view_module_version": "1.5.0",
            "_view_name": "HTMLView",
            "description": "",
            "description_tooltip": null,
            "layout": "IPY_MODEL_f86276cb9c784f3e87fa538fdb71da6e",
            "placeholder": "​",
            "style": "IPY_MODEL_a733ba99230041c39e08f52635383492",
            "value": " 124/124 [00:00&lt;00:00, 3.62kB/s]"
          }
        },
        "df2c90cc57b94c50a523885daaee7e37": {
          "model_module": "@jupyter-widgets/base",
          "model_name": "LayoutModel",
          "model_module_version": "1.2.0",
          "state": {
            "_model_module": "@jupyter-widgets/base",
            "_model_module_version": "1.2.0",
            "_model_name": "LayoutModel",
            "_view_count": null,
            "_view_module": "@jupyter-widgets/base",
            "_view_module_version": "1.2.0",
            "_view_name": "LayoutView",
            "align_content": null,
            "align_items": null,
            "align_self": null,
            "border": null,
            "bottom": null,
            "display": null,
            "flex": null,
            "flex_flow": null,
            "grid_area": null,
            "grid_auto_columns": null,
            "grid_auto_flow": null,
            "grid_auto_rows": null,
            "grid_column": null,
            "grid_gap": null,
            "grid_row": null,
            "grid_template_areas": null,
            "grid_template_columns": null,
            "grid_template_rows": null,
            "height": null,
            "justify_content": null,
            "justify_items": null,
            "left": null,
            "margin": null,
            "max_height": null,
            "max_width": null,
            "min_height": null,
            "min_width": null,
            "object_fit": null,
            "object_position": null,
            "order": null,
            "overflow": null,
            "overflow_x": null,
            "overflow_y": null,
            "padding": null,
            "right": null,
            "top": null,
            "visibility": null,
            "width": null
          }
        },
        "b6c9a11cab304670bad7cbfd4113ddf9": {
          "model_module": "@jupyter-widgets/base",
          "model_name": "LayoutModel",
          "model_module_version": "1.2.0",
          "state": {
            "_model_module": "@jupyter-widgets/base",
            "_model_module_version": "1.2.0",
            "_model_name": "LayoutModel",
            "_view_count": null,
            "_view_module": "@jupyter-widgets/base",
            "_view_module_version": "1.2.0",
            "_view_name": "LayoutView",
            "align_content": null,
            "align_items": null,
            "align_self": null,
            "border": null,
            "bottom": null,
            "display": null,
            "flex": null,
            "flex_flow": null,
            "grid_area": null,
            "grid_auto_columns": null,
            "grid_auto_flow": null,
            "grid_auto_rows": null,
            "grid_column": null,
            "grid_gap": null,
            "grid_row": null,
            "grid_template_areas": null,
            "grid_template_columns": null,
            "grid_template_rows": null,
            "height": null,
            "justify_content": null,
            "justify_items": null,
            "left": null,
            "margin": null,
            "max_height": null,
            "max_width": null,
            "min_height": null,
            "min_width": null,
            "object_fit": null,
            "object_position": null,
            "order": null,
            "overflow": null,
            "overflow_x": null,
            "overflow_y": null,
            "padding": null,
            "right": null,
            "top": null,
            "visibility": null,
            "width": null
          }
        },
        "d85042f226df43c1957c9e9d6fca4e55": {
          "model_module": "@jupyter-widgets/controls",
          "model_name": "DescriptionStyleModel",
          "model_module_version": "1.5.0",
          "state": {
            "_model_module": "@jupyter-widgets/controls",
            "_model_module_version": "1.5.0",
            "_model_name": "DescriptionStyleModel",
            "_view_count": null,
            "_view_module": "@jupyter-widgets/base",
            "_view_module_version": "1.2.0",
            "_view_name": "StyleView",
            "description_width": ""
          }
        },
        "5fc4cfc327154bca94f5bc1064339908": {
          "model_module": "@jupyter-widgets/base",
          "model_name": "LayoutModel",
          "model_module_version": "1.2.0",
          "state": {
            "_model_module": "@jupyter-widgets/base",
            "_model_module_version": "1.2.0",
            "_model_name": "LayoutModel",
            "_view_count": null,
            "_view_module": "@jupyter-widgets/base",
            "_view_module_version": "1.2.0",
            "_view_name": "LayoutView",
            "align_content": null,
            "align_items": null,
            "align_self": null,
            "border": null,
            "bottom": null,
            "display": null,
            "flex": null,
            "flex_flow": null,
            "grid_area": null,
            "grid_auto_columns": null,
            "grid_auto_flow": null,
            "grid_auto_rows": null,
            "grid_column": null,
            "grid_gap": null,
            "grid_row": null,
            "grid_template_areas": null,
            "grid_template_columns": null,
            "grid_template_rows": null,
            "height": null,
            "justify_content": null,
            "justify_items": null,
            "left": null,
            "margin": null,
            "max_height": null,
            "max_width": null,
            "min_height": null,
            "min_width": null,
            "object_fit": null,
            "object_position": null,
            "order": null,
            "overflow": null,
            "overflow_x": null,
            "overflow_y": null,
            "padding": null,
            "right": null,
            "top": null,
            "visibility": null,
            "width": null
          }
        },
        "62287d591c3f45219374ca287241ebc0": {
          "model_module": "@jupyter-widgets/controls",
          "model_name": "ProgressStyleModel",
          "model_module_version": "1.5.0",
          "state": {
            "_model_module": "@jupyter-widgets/controls",
            "_model_module_version": "1.5.0",
            "_model_name": "ProgressStyleModel",
            "_view_count": null,
            "_view_module": "@jupyter-widgets/base",
            "_view_module_version": "1.2.0",
            "_view_name": "StyleView",
            "bar_color": null,
            "description_width": ""
          }
        },
        "f86276cb9c784f3e87fa538fdb71da6e": {
          "model_module": "@jupyter-widgets/base",
          "model_name": "LayoutModel",
          "model_module_version": "1.2.0",
          "state": {
            "_model_module": "@jupyter-widgets/base",
            "_model_module_version": "1.2.0",
            "_model_name": "LayoutModel",
            "_view_count": null,
            "_view_module": "@jupyter-widgets/base",
            "_view_module_version": "1.2.0",
            "_view_name": "LayoutView",
            "align_content": null,
            "align_items": null,
            "align_self": null,
            "border": null,
            "bottom": null,
            "display": null,
            "flex": null,
            "flex_flow": null,
            "grid_area": null,
            "grid_auto_columns": null,
            "grid_auto_flow": null,
            "grid_auto_rows": null,
            "grid_column": null,
            "grid_gap": null,
            "grid_row": null,
            "grid_template_areas": null,
            "grid_template_columns": null,
            "grid_template_rows": null,
            "height": null,
            "justify_content": null,
            "justify_items": null,
            "left": null,
            "margin": null,
            "max_height": null,
            "max_width": null,
            "min_height": null,
            "min_width": null,
            "object_fit": null,
            "object_position": null,
            "order": null,
            "overflow": null,
            "overflow_x": null,
            "overflow_y": null,
            "padding": null,
            "right": null,
            "top": null,
            "visibility": null,
            "width": null
          }
        },
        "a733ba99230041c39e08f52635383492": {
          "model_module": "@jupyter-widgets/controls",
          "model_name": "DescriptionStyleModel",
          "model_module_version": "1.5.0",
          "state": {
            "_model_module": "@jupyter-widgets/controls",
            "_model_module_version": "1.5.0",
            "_model_name": "DescriptionStyleModel",
            "_view_count": null,
            "_view_module": "@jupyter-widgets/base",
            "_view_module_version": "1.2.0",
            "_view_name": "StyleView",
            "description_width": ""
          }
        },
        "b4819677f2fa4d7eb0058660db8f7f50": {
          "model_module": "@jupyter-widgets/controls",
          "model_name": "HBoxModel",
          "model_module_version": "1.5.0",
          "state": {
            "_dom_classes": [],
            "_model_module": "@jupyter-widgets/controls",
            "_model_module_version": "1.5.0",
            "_model_name": "HBoxModel",
            "_view_count": null,
            "_view_module": "@jupyter-widgets/controls",
            "_view_module_version": "1.5.0",
            "_view_name": "HBoxView",
            "box_style": "",
            "children": [
              "IPY_MODEL_b6e830b3df9e4867b4a2df52899bed2c",
              "IPY_MODEL_e7899b683852427399144c3308cc00c8",
              "IPY_MODEL_3754710e07354af59a4ea082dd4732b0"
            ],
            "layout": "IPY_MODEL_f615adb2b176471687cbaaf63641f731"
          }
        },
        "b6e830b3df9e4867b4a2df52899bed2c": {
          "model_module": "@jupyter-widgets/controls",
          "model_name": "HTMLModel",
          "model_module_version": "1.5.0",
          "state": {
            "_dom_classes": [],
            "_model_module": "@jupyter-widgets/controls",
            "_model_module_version": "1.5.0",
            "_model_name": "HTMLModel",
            "_view_count": null,
            "_view_module": "@jupyter-widgets/controls",
            "_view_module_version": "1.5.0",
            "_view_name": "HTMLView",
            "description": "",
            "description_tooltip": null,
            "layout": "IPY_MODEL_54d1528b93894baf962f376a5ef2eae4",
            "placeholder": "​",
            "style": "IPY_MODEL_3c9a2bc720dd456d97c2a1ab0733ceaa",
            "value": "Epoch 0: 100%"
          }
        },
        "e7899b683852427399144c3308cc00c8": {
          "model_module": "@jupyter-widgets/controls",
          "model_name": "FloatProgressModel",
          "model_module_version": "1.5.0",
          "state": {
            "_dom_classes": [],
            "_model_module": "@jupyter-widgets/controls",
            "_model_module_version": "1.5.0",
            "_model_name": "FloatProgressModel",
            "_view_count": null,
            "_view_module": "@jupyter-widgets/controls",
            "_view_module_version": "1.5.0",
            "_view_name": "ProgressView",
            "bar_style": "success",
            "description": "",
            "description_tooltip": null,
            "layout": "IPY_MODEL_7c9565ecadd24b76b2375bdcfa9203c4",
            "max": 6251,
            "min": 0,
            "orientation": "horizontal",
            "style": "IPY_MODEL_73685b6aaecf4dae8cce6a4652a19925",
            "value": 6251
          }
        },
        "3754710e07354af59a4ea082dd4732b0": {
          "model_module": "@jupyter-widgets/controls",
          "model_name": "HTMLModel",
          "model_module_version": "1.5.0",
          "state": {
            "_dom_classes": [],
            "_model_module": "@jupyter-widgets/controls",
            "_model_module_version": "1.5.0",
            "_model_name": "HTMLModel",
            "_view_count": null,
            "_view_module": "@jupyter-widgets/controls",
            "_view_module_version": "1.5.0",
            "_view_name": "HTMLView",
            "description": "",
            "description_tooltip": null,
            "layout": "IPY_MODEL_b4c6db45d482473ba542e67783270c1d",
            "placeholder": "​",
            "style": "IPY_MODEL_39074ae774fb44c5a0970ae560e8bc7e",
            "value": " 6251/6251 [24:13&lt;00:00,  4.30it/s, loss=0.23, v_num=0, val_loss=0.223, val_acc=0.911, val_precision=0.894, val_recall=0.933, val_f1=0.913, train_loss=0.276, train_acc=0.883, train_precision=0.882, train_recall=0.885, train_f1=0.883]"
          }
        },
        "f615adb2b176471687cbaaf63641f731": {
          "model_module": "@jupyter-widgets/base",
          "model_name": "LayoutModel",
          "model_module_version": "1.2.0",
          "state": {
            "_model_module": "@jupyter-widgets/base",
            "_model_module_version": "1.2.0",
            "_model_name": "LayoutModel",
            "_view_count": null,
            "_view_module": "@jupyter-widgets/base",
            "_view_module_version": "1.2.0",
            "_view_name": "LayoutView",
            "align_content": null,
            "align_items": null,
            "align_self": null,
            "border": null,
            "bottom": null,
            "display": "inline-flex",
            "flex": null,
            "flex_flow": "row wrap",
            "grid_area": null,
            "grid_auto_columns": null,
            "grid_auto_flow": null,
            "grid_auto_rows": null,
            "grid_column": null,
            "grid_gap": null,
            "grid_row": null,
            "grid_template_areas": null,
            "grid_template_columns": null,
            "grid_template_rows": null,
            "height": null,
            "justify_content": null,
            "justify_items": null,
            "left": null,
            "margin": null,
            "max_height": null,
            "max_width": null,
            "min_height": null,
            "min_width": null,
            "object_fit": null,
            "object_position": null,
            "order": null,
            "overflow": null,
            "overflow_x": null,
            "overflow_y": null,
            "padding": null,
            "right": null,
            "top": null,
            "visibility": null,
            "width": "100%"
          }
        },
        "54d1528b93894baf962f376a5ef2eae4": {
          "model_module": "@jupyter-widgets/base",
          "model_name": "LayoutModel",
          "model_module_version": "1.2.0",
          "state": {
            "_model_module": "@jupyter-widgets/base",
            "_model_module_version": "1.2.0",
            "_model_name": "LayoutModel",
            "_view_count": null,
            "_view_module": "@jupyter-widgets/base",
            "_view_module_version": "1.2.0",
            "_view_name": "LayoutView",
            "align_content": null,
            "align_items": null,
            "align_self": null,
            "border": null,
            "bottom": null,
            "display": null,
            "flex": null,
            "flex_flow": null,
            "grid_area": null,
            "grid_auto_columns": null,
            "grid_auto_flow": null,
            "grid_auto_rows": null,
            "grid_column": null,
            "grid_gap": null,
            "grid_row": null,
            "grid_template_areas": null,
            "grid_template_columns": null,
            "grid_template_rows": null,
            "height": null,
            "justify_content": null,
            "justify_items": null,
            "left": null,
            "margin": null,
            "max_height": null,
            "max_width": null,
            "min_height": null,
            "min_width": null,
            "object_fit": null,
            "object_position": null,
            "order": null,
            "overflow": null,
            "overflow_x": null,
            "overflow_y": null,
            "padding": null,
            "right": null,
            "top": null,
            "visibility": null,
            "width": null
          }
        },
        "3c9a2bc720dd456d97c2a1ab0733ceaa": {
          "model_module": "@jupyter-widgets/controls",
          "model_name": "DescriptionStyleModel",
          "model_module_version": "1.5.0",
          "state": {
            "_model_module": "@jupyter-widgets/controls",
            "_model_module_version": "1.5.0",
            "_model_name": "DescriptionStyleModel",
            "_view_count": null,
            "_view_module": "@jupyter-widgets/base",
            "_view_module_version": "1.2.0",
            "_view_name": "StyleView",
            "description_width": ""
          }
        },
        "7c9565ecadd24b76b2375bdcfa9203c4": {
          "model_module": "@jupyter-widgets/base",
          "model_name": "LayoutModel",
          "model_module_version": "1.2.0",
          "state": {
            "_model_module": "@jupyter-widgets/base",
            "_model_module_version": "1.2.0",
            "_model_name": "LayoutModel",
            "_view_count": null,
            "_view_module": "@jupyter-widgets/base",
            "_view_module_version": "1.2.0",
            "_view_name": "LayoutView",
            "align_content": null,
            "align_items": null,
            "align_self": null,
            "border": null,
            "bottom": null,
            "display": null,
            "flex": "2",
            "flex_flow": null,
            "grid_area": null,
            "grid_auto_columns": null,
            "grid_auto_flow": null,
            "grid_auto_rows": null,
            "grid_column": null,
            "grid_gap": null,
            "grid_row": null,
            "grid_template_areas": null,
            "grid_template_columns": null,
            "grid_template_rows": null,
            "height": null,
            "justify_content": null,
            "justify_items": null,
            "left": null,
            "margin": null,
            "max_height": null,
            "max_width": null,
            "min_height": null,
            "min_width": null,
            "object_fit": null,
            "object_position": null,
            "order": null,
            "overflow": null,
            "overflow_x": null,
            "overflow_y": null,
            "padding": null,
            "right": null,
            "top": null,
            "visibility": null,
            "width": null
          }
        },
        "73685b6aaecf4dae8cce6a4652a19925": {
          "model_module": "@jupyter-widgets/controls",
          "model_name": "ProgressStyleModel",
          "model_module_version": "1.5.0",
          "state": {
            "_model_module": "@jupyter-widgets/controls",
            "_model_module_version": "1.5.0",
            "_model_name": "ProgressStyleModel",
            "_view_count": null,
            "_view_module": "@jupyter-widgets/base",
            "_view_module_version": "1.2.0",
            "_view_name": "StyleView",
            "bar_color": null,
            "description_width": ""
          }
        },
        "b4c6db45d482473ba542e67783270c1d": {
          "model_module": "@jupyter-widgets/base",
          "model_name": "LayoutModel",
          "model_module_version": "1.2.0",
          "state": {
            "_model_module": "@jupyter-widgets/base",
            "_model_module_version": "1.2.0",
            "_model_name": "LayoutModel",
            "_view_count": null,
            "_view_module": "@jupyter-widgets/base",
            "_view_module_version": "1.2.0",
            "_view_name": "LayoutView",
            "align_content": null,
            "align_items": null,
            "align_self": null,
            "border": null,
            "bottom": null,
            "display": null,
            "flex": null,
            "flex_flow": null,
            "grid_area": null,
            "grid_auto_columns": null,
            "grid_auto_flow": null,
            "grid_auto_rows": null,
            "grid_column": null,
            "grid_gap": null,
            "grid_row": null,
            "grid_template_areas": null,
            "grid_template_columns": null,
            "grid_template_rows": null,
            "height": null,
            "justify_content": null,
            "justify_items": null,
            "left": null,
            "margin": null,
            "max_height": null,
            "max_width": null,
            "min_height": null,
            "min_width": null,
            "object_fit": null,
            "object_position": null,
            "order": null,
            "overflow": null,
            "overflow_x": null,
            "overflow_y": null,
            "padding": null,
            "right": null,
            "top": null,
            "visibility": null,
            "width": null
          }
        },
        "39074ae774fb44c5a0970ae560e8bc7e": {
          "model_module": "@jupyter-widgets/controls",
          "model_name": "DescriptionStyleModel",
          "model_module_version": "1.5.0",
          "state": {
            "_model_module": "@jupyter-widgets/controls",
            "_model_module_version": "1.5.0",
            "_model_name": "DescriptionStyleModel",
            "_view_count": null,
            "_view_module": "@jupyter-widgets/base",
            "_view_module_version": "1.2.0",
            "_view_name": "StyleView",
            "description_width": ""
          }
        },
        "0c14b5b40dfe4d659e2e5cf2ea3af6de": {
          "model_module": "@jupyter-widgets/controls",
          "model_name": "HBoxModel",
          "model_module_version": "1.5.0",
          "state": {
            "_dom_classes": [],
            "_model_module": "@jupyter-widgets/controls",
            "_model_module_version": "1.5.0",
            "_model_name": "HBoxModel",
            "_view_count": null,
            "_view_module": "@jupyter-widgets/controls",
            "_view_module_version": "1.5.0",
            "_view_name": "HBoxView",
            "box_style": "",
            "children": [
              "IPY_MODEL_2228c63c62ce4823998fc0c26a384d70",
              "IPY_MODEL_ba88653e44504553b7ebd4499b158afb",
              "IPY_MODEL_c03ef7b833564e3b8dffdf1f757dfaac"
            ],
            "layout": "IPY_MODEL_1be313045fef414a8db25598ec132e92"
          }
        },
        "2228c63c62ce4823998fc0c26a384d70": {
          "model_module": "@jupyter-widgets/controls",
          "model_name": "HTMLModel",
          "model_module_version": "1.5.0",
          "state": {
            "_dom_classes": [],
            "_model_module": "@jupyter-widgets/controls",
            "_model_module_version": "1.5.0",
            "_model_name": "HTMLModel",
            "_view_count": null,
            "_view_module": "@jupyter-widgets/controls",
            "_view_module_version": "1.5.0",
            "_view_name": "HTMLView",
            "description": "",
            "description_tooltip": null,
            "layout": "IPY_MODEL_8a8eb72d4bfb40688c13283c4c2ec1b5",
            "placeholder": "​",
            "style": "IPY_MODEL_35aabc4f05cf497192b0c4d7d0989f4f",
            "value": "Validation DataLoader 0: 100%"
          }
        },
        "ba88653e44504553b7ebd4499b158afb": {
          "model_module": "@jupyter-widgets/controls",
          "model_name": "FloatProgressModel",
          "model_module_version": "1.5.0",
          "state": {
            "_dom_classes": [],
            "_model_module": "@jupyter-widgets/controls",
            "_model_module_version": "1.5.0",
            "_model_name": "FloatProgressModel",
            "_view_count": null,
            "_view_module": "@jupyter-widgets/controls",
            "_view_module_version": "1.5.0",
            "_view_name": "ProgressView",
            "bar_style": "",
            "description": "",
            "description_tooltip": null,
            "layout": "IPY_MODEL_29a684f58f6045f9b4086072a3a41749",
            "max": 1563,
            "min": 0,
            "orientation": "horizontal",
            "style": "IPY_MODEL_cbccce902ede449b916668029caf34e0",
            "value": 1563
          }
        },
        "c03ef7b833564e3b8dffdf1f757dfaac": {
          "model_module": "@jupyter-widgets/controls",
          "model_name": "HTMLModel",
          "model_module_version": "1.5.0",
          "state": {
            "_dom_classes": [],
            "_model_module": "@jupyter-widgets/controls",
            "_model_module_version": "1.5.0",
            "_model_name": "HTMLModel",
            "_view_count": null,
            "_view_module": "@jupyter-widgets/controls",
            "_view_module_version": "1.5.0",
            "_view_name": "HTMLView",
            "description": "",
            "description_tooltip": null,
            "layout": "IPY_MODEL_7fb1bce6455846cfbed86a42b91b5cbf",
            "placeholder": "​",
            "style": "IPY_MODEL_13329e10eaea42c2b1cb4b6146bee4f3",
            "value": " 1563/1563 [02:17&lt;00:00, 11.33it/s]"
          }
        },
        "1be313045fef414a8db25598ec132e92": {
          "model_module": "@jupyter-widgets/base",
          "model_name": "LayoutModel",
          "model_module_version": "1.2.0",
          "state": {
            "_model_module": "@jupyter-widgets/base",
            "_model_module_version": "1.2.0",
            "_model_name": "LayoutModel",
            "_view_count": null,
            "_view_module": "@jupyter-widgets/base",
            "_view_module_version": "1.2.0",
            "_view_name": "LayoutView",
            "align_content": null,
            "align_items": null,
            "align_self": null,
            "border": null,
            "bottom": null,
            "display": "inline-flex",
            "flex": null,
            "flex_flow": "row wrap",
            "grid_area": null,
            "grid_auto_columns": null,
            "grid_auto_flow": null,
            "grid_auto_rows": null,
            "grid_column": null,
            "grid_gap": null,
            "grid_row": null,
            "grid_template_areas": null,
            "grid_template_columns": null,
            "grid_template_rows": null,
            "height": null,
            "justify_content": null,
            "justify_items": null,
            "left": null,
            "margin": null,
            "max_height": null,
            "max_width": null,
            "min_height": null,
            "min_width": null,
            "object_fit": null,
            "object_position": null,
            "order": null,
            "overflow": null,
            "overflow_x": null,
            "overflow_y": null,
            "padding": null,
            "right": null,
            "top": null,
            "visibility": "hidden",
            "width": "100%"
          }
        },
        "8a8eb72d4bfb40688c13283c4c2ec1b5": {
          "model_module": "@jupyter-widgets/base",
          "model_name": "LayoutModel",
          "model_module_version": "1.2.0",
          "state": {
            "_model_module": "@jupyter-widgets/base",
            "_model_module_version": "1.2.0",
            "_model_name": "LayoutModel",
            "_view_count": null,
            "_view_module": "@jupyter-widgets/base",
            "_view_module_version": "1.2.0",
            "_view_name": "LayoutView",
            "align_content": null,
            "align_items": null,
            "align_self": null,
            "border": null,
            "bottom": null,
            "display": null,
            "flex": null,
            "flex_flow": null,
            "grid_area": null,
            "grid_auto_columns": null,
            "grid_auto_flow": null,
            "grid_auto_rows": null,
            "grid_column": null,
            "grid_gap": null,
            "grid_row": null,
            "grid_template_areas": null,
            "grid_template_columns": null,
            "grid_template_rows": null,
            "height": null,
            "justify_content": null,
            "justify_items": null,
            "left": null,
            "margin": null,
            "max_height": null,
            "max_width": null,
            "min_height": null,
            "min_width": null,
            "object_fit": null,
            "object_position": null,
            "order": null,
            "overflow": null,
            "overflow_x": null,
            "overflow_y": null,
            "padding": null,
            "right": null,
            "top": null,
            "visibility": null,
            "width": null
          }
        },
        "35aabc4f05cf497192b0c4d7d0989f4f": {
          "model_module": "@jupyter-widgets/controls",
          "model_name": "DescriptionStyleModel",
          "model_module_version": "1.5.0",
          "state": {
            "_model_module": "@jupyter-widgets/controls",
            "_model_module_version": "1.5.0",
            "_model_name": "DescriptionStyleModel",
            "_view_count": null,
            "_view_module": "@jupyter-widgets/base",
            "_view_module_version": "1.2.0",
            "_view_name": "StyleView",
            "description_width": ""
          }
        },
        "29a684f58f6045f9b4086072a3a41749": {
          "model_module": "@jupyter-widgets/base",
          "model_name": "LayoutModel",
          "model_module_version": "1.2.0",
          "state": {
            "_model_module": "@jupyter-widgets/base",
            "_model_module_version": "1.2.0",
            "_model_name": "LayoutModel",
            "_view_count": null,
            "_view_module": "@jupyter-widgets/base",
            "_view_module_version": "1.2.0",
            "_view_name": "LayoutView",
            "align_content": null,
            "align_items": null,
            "align_self": null,
            "border": null,
            "bottom": null,
            "display": null,
            "flex": "2",
            "flex_flow": null,
            "grid_area": null,
            "grid_auto_columns": null,
            "grid_auto_flow": null,
            "grid_auto_rows": null,
            "grid_column": null,
            "grid_gap": null,
            "grid_row": null,
            "grid_template_areas": null,
            "grid_template_columns": null,
            "grid_template_rows": null,
            "height": null,
            "justify_content": null,
            "justify_items": null,
            "left": null,
            "margin": null,
            "max_height": null,
            "max_width": null,
            "min_height": null,
            "min_width": null,
            "object_fit": null,
            "object_position": null,
            "order": null,
            "overflow": null,
            "overflow_x": null,
            "overflow_y": null,
            "padding": null,
            "right": null,
            "top": null,
            "visibility": null,
            "width": null
          }
        },
        "cbccce902ede449b916668029caf34e0": {
          "model_module": "@jupyter-widgets/controls",
          "model_name": "ProgressStyleModel",
          "model_module_version": "1.5.0",
          "state": {
            "_model_module": "@jupyter-widgets/controls",
            "_model_module_version": "1.5.0",
            "_model_name": "ProgressStyleModel",
            "_view_count": null,
            "_view_module": "@jupyter-widgets/base",
            "_view_module_version": "1.2.0",
            "_view_name": "StyleView",
            "bar_color": null,
            "description_width": ""
          }
        },
        "7fb1bce6455846cfbed86a42b91b5cbf": {
          "model_module": "@jupyter-widgets/base",
          "model_name": "LayoutModel",
          "model_module_version": "1.2.0",
          "state": {
            "_model_module": "@jupyter-widgets/base",
            "_model_module_version": "1.2.0",
            "_model_name": "LayoutModel",
            "_view_count": null,
            "_view_module": "@jupyter-widgets/base",
            "_view_module_version": "1.2.0",
            "_view_name": "LayoutView",
            "align_content": null,
            "align_items": null,
            "align_self": null,
            "border": null,
            "bottom": null,
            "display": null,
            "flex": null,
            "flex_flow": null,
            "grid_area": null,
            "grid_auto_columns": null,
            "grid_auto_flow": null,
            "grid_auto_rows": null,
            "grid_column": null,
            "grid_gap": null,
            "grid_row": null,
            "grid_template_areas": null,
            "grid_template_columns": null,
            "grid_template_rows": null,
            "height": null,
            "justify_content": null,
            "justify_items": null,
            "left": null,
            "margin": null,
            "max_height": null,
            "max_width": null,
            "min_height": null,
            "min_width": null,
            "object_fit": null,
            "object_position": null,
            "order": null,
            "overflow": null,
            "overflow_x": null,
            "overflow_y": null,
            "padding": null,
            "right": null,
            "top": null,
            "visibility": null,
            "width": null
          }
        },
        "13329e10eaea42c2b1cb4b6146bee4f3": {
          "model_module": "@jupyter-widgets/controls",
          "model_name": "DescriptionStyleModel",
          "model_module_version": "1.5.0",
          "state": {
            "_model_module": "@jupyter-widgets/controls",
            "_model_module_version": "1.5.0",
            "_model_name": "DescriptionStyleModel",
            "_view_count": null,
            "_view_module": "@jupyter-widgets/base",
            "_view_module_version": "1.2.0",
            "_view_name": "StyleView",
            "description_width": ""
          }
        }
      }
    },
    "accelerator": "GPU",
    "gpuClass": "standard"
  },
  "cells": [
    {
      "cell_type": "markdown",
      "source": [
        "# Electra: Pre-training Text Encoders as Discriminators Rather Than Generators\n",
        "\n"
      ],
      "metadata": {
        "id": "tN9TOiqYCuMZ"
      }
    },
    {
      "cell_type": "markdown",
      "source": [
        "## 1. Intro\n",
        "### 1-1. 기존 denoising autoencoder 방법론의 문제점\n",
        "- 입력 시퀀스의 토큰 중 약 15%를 마스킹하여 학습해 전체 토큰 중 15%에 대해서만 loss가 발생하므로 학습에 비용이 많이 든다.\n",
        "- 학습 할때 [MASK] 토큰을 사용해서 예측하는데 실제 inference에서는 [MASK]토큰을 사용하지 않는 문제점이 발생한다.\n",
        "### 1-2. 새로운 제안\n",
        "- RTD(Replaced Token Detection)이라는 pre-training task를 제안.\n",
        "  - Generator를 이용해 실제 입력 토큰들 중 일부를 가짜 토큰으로 바꾸고, 각 토큰이 실제 입력에 있는 진짜 토큰인지 generator가 생성한 가짜 토큰인지 discriminator가 구분하는 방식이다.\n",
        "  - 입력된 모든 토큰에 대해 학습하기 때문에 효율적이고 효과적이다.\n"
      ],
      "metadata": {
        "id": "ghLNEbOTXqbx"
      }
    },
    {
      "cell_type": "markdown",
      "source": [
        "\n",
        "## 2. Method\n",
        "\n",
        "![image.png](data:image/png;base64,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)"
      ],
      "metadata": {
        "id": "Sf32yYZDDDt-"
      }
    },
    {
      "cell_type": "markdown",
      "source": [
        "\n",
        "### 2-1.Generator(G)\n",
        "- 입력받은 토큰벡터의 일부를 마스킹해 이를 예측값으로 체워넣는 기능을 하며 BERT의 Masked Lnaguage Model(MLM)과 동일하다.\n",
        "\n",
        "  1) 입력 x = [ x1,x2,...,xn ]에 대해서 마스킹할 위치의 집합 m=[ m1,m2,...,mk ]을 결정해서 해당 위치의 입력 토큰을 [MASK]로 치환한다.\n",
        "\n",
        "  i. 모든 마스킹 위치는 1과 n 사이의 정수로 아래 식처럼 표현\n",
        "\n",
        "    - $m_i \\sim$ unif{1, n} for i = 1 to k\n",
        "    - $x^{masked} = REPLACE(x,m, [MASK] )$\n",
        "\n",
        "  ii. 마스킹의 수 k는 보통 전체의 15%인 0.15n을 사용\n",
        "\n",
        "  2)마스킹 된 입력에 대해서 G는 원래 토큰이 무엇인지 예측한다. t번째 토큰에 대한 예측은 아래와 같이 표현한다.\n",
        "  - $p_G(x_t | x^{masked}) = \\frac{exp(e(x_t)^Th_G(x^{masked})_t)}{\\sum_{x^{'}} exp(e(x^{'})^Th_G(x^{masked})_t)}$\n",
        "  - e()\n",
        "는 임베딩을 의미한다.\n",
        "\n",
        "  3) Loss function\n",
        "  - $L_{MLM}(x, \\theta_G) = E(\\sum_{i \\in m} -log_{p_G}(x_i | x^{masked}))$"
      ],
      "metadata": {
        "id": "d8v4Y7IONht-"
      }
    },
    {
      "cell_type": "markdown",
      "source": [
        "### 2-2. Discriminator(D)\n",
        "\n",
        "- Discriminator는 입력 토큰 시퀀스에 대해서 각 토큰이 진짜(original)인지 생성된것(replaced)인지 이진 분류로 학습한다.\n",
        "\n",
        "  1) G를 이용해서 마스킹된 입력 토큰을 예측\n",
        "\n",
        "  2) G에서 마스킹할 위치의 집합 m에 해당하는 위치의 토큰을 [MASK]가 아닌 generator의 softmax 분포 $p_G(x_t|x)$에 대해 샘플링한 토큰으로 치환(corrupt) \n",
        "    -   *Original input*:[the, chef, cooked, the, meal]\n",
        "    -   *input for generator*: [[MASK], chef, [MASK], the, meal]\n",
        "    - input for disciminator : [the, chef, ate, the, meal]\n",
        "    - 첫 번째 단어는 샘플링 결과가 원래 입력 토큰과 동일하게 \"the\"가 나온 것이다. \n",
        "    - 세 번째 단어는 샘플링 결과가 원래 입력 토믄인 \"cooked\"가 아니고 \"ate\"가 나온 것이다. \n",
        "    - 이 치환 과정은 수학적으로 다음과 같다.\n",
        "\n",
        "      > $x^{corrupt} = REPLACE(x, m, \\hat{x})$\n",
        "      > $\\hat{x} \\sim p_G(x_i | x^{masked})$for $i \\in$ **m**\n",
        "\n",
        "  3) 치환된 입력 x^{corrupt}에 대해서 discriminator는 아래와 같이 각 토큰이 원래 입력과 동일한지 치환된 것인지 예측한다. \n",
        "  -   Target classes (2)\n",
        "      * *original*: 이 위치에 해당하는 토큰은 원본 문장의 토큰과 같은 것\n",
        "      * *replaced*: 이 위치에 해당하는 토큰은 generator G에 의해서 변형된 것 \n",
        "      \n",
        "  -   이런 과정을 수학적으로 표현하면 아래와 같다. (t 번째 토큰에 대한 예측)\n",
        "  > $D(x^{corrupt}, t) = sigmoid(w^Th_D(x^{corrupt})_t)$\n",
        "\n",
        "  4) Loss function \n",
        "  - $L_{Disc}(x, \\theta_D) = E(\\sum_{t=1}^{n}-1(x_t^{corrupt}=x_t)logD(x^{corrupt}, t)-1(x_t^{corrupt} \\neq x_t)log(1-D(x^{corrupt},t)))$"
      ],
      "metadata": {
        "id": "S7g8LpxUVAle"
      }
    },
    {
      "cell_type": "markdown",
      "source": [
        "##GAN과의 차이점 \n",
        "\n",
        "Generator와 Discriminator가 있다는 것이 GAN과의 공통점이지만, ELECTRA의 training objective는 GAN과 몇가지 차이점이 있다.\n",
        "\n",
        "1. Generator가 원래 토큰과 동일한 토큰을 생성했을 때, GAN은 negative sample(fake)로 간주하지만 ELECTRA는 positive sample로 간주한다는 것이다.\n",
        "\n",
        "2. Generator가 discriminator를 속이기 위해 adversarial 하게 학습하는 게 아니고 maximum likelihood로 학습한다는 점이다.\n",
        "  - generator에서 샘플링하는 과정 때문에 역전파가 불가능하고, 따라서 adversarial 하게 generator를 학습하는게 어려움. \n",
        "  - 그래서 강화 학습으로 이를 구현해보았지만 maximum likelihood로 학습시키는 것보다 성능이 좋지 않았음(논문의 Appendix F 참조)\n",
        "\n",
        "3. Generator의 입력으로 노이즈 벡터를 넣어주지 않는 점이 다르다.\n",
        "\n",
        "\n",
        "최종적으로 ELECTRA는 대용량 코퍼스에 대해서 generator loss와 discriminator loss의 합을 최소화하도록 학습한다. \n",
        "\n",
        "앞에서 설명했듯이 샘플링 과정이 있기 때문에 discriminator loss는 generator로 역전파되지 않으며, 위의 구조로 pre-training을 마친 뒤에 generator는 버리고 discriminator만 취해서 downstream task으로 fine-tuning을 진행한다. \n",
        "\n",
        "\n"
      ],
      "metadata": {
        "id": "vpBtYQx1b2Eu"
      }
    },
    {
      "cell_type": "markdown",
      "source": [
        "# Fine Tuneing"
      ],
      "metadata": {
        "id": "INI4iebyX_Bx"
      }
    },
    {
      "cell_type": "code",
      "source": [
        "from google.colab import drive\n",
        "drive.mount('/content/drive')"
      ],
      "metadata": {
        "colab": {
          "base_uri": "https://localhost:8080/"
        },
        "id": "JMEAYP7JOmFU",
        "outputId": "2815a1cf-195e-4d9b-f6fe-f852db5acacc"
      },
      "execution_count": null,
      "outputs": [
        {
          "output_type": "stream",
          "name": "stdout",
          "text": [
            "Drive already mounted at /content/drive; to attempt to forcibly remount, call drive.mount(\"/content/drive\", force_remount=True).\n"
          ]
        }
      ]
    },
    {
      "cell_type": "markdown",
      "source": [
        "# 필요한 라이브러리 버전 다운로드"
      ],
      "metadata": {
        "id": "rKDpN9VdYCqy"
      }
    },
    {
      "cell_type": "code",
      "execution_count": null,
      "metadata": {
        "colab": {
          "base_uri": "https://localhost:8080/"
        },
        "id": "dIZuy5wFCfL2",
        "outputId": "a6f13ab2-d102-4f9f-e341-3ec91a643563"
      },
      "outputs": [
        {
          "output_type": "stream",
          "name": "stdout",
          "text": [
            "/bin/bash: python3.7: command not found\n",
            "Looking in indexes: https://pypi.org/simple, https://us-python.pkg.dev/colab-wheels/public/simple/\n",
            "Collecting transformers==2.8.0\n",
            "  Downloading transformers-2.8.0-py3-none-any.whl (563 kB)\n",
            "\u001b[K     |████████████████████████████████| 563 kB 4.9 MB/s \n",
            "\u001b[?25hCollecting sentencepiece\n",
            "  Downloading sentencepiece-0.1.97-cp38-cp38-manylinux_2_17_x86_64.manylinux2014_x86_64.whl (1.3 MB)\n",
            "\u001b[K     |████████████████████████████████| 1.3 MB 31.5 MB/s \n",
            "\u001b[?25hRequirement already satisfied: requests in /usr/local/lib/python3.8/dist-packages (from transformers==2.8.0) (2.23.0)\n",
            "Collecting boto3\n",
            "  Downloading boto3-1.26.22-py3-none-any.whl (132 kB)\n",
            "\u001b[K     |████████████████████████████████| 132 kB 53.3 MB/s \n",
            "\u001b[?25hRequirement already satisfied: numpy in /usr/local/lib/python3.8/dist-packages (from transformers==2.8.0) (1.21.6)\n",
            "Requirement already satisfied: tqdm>=4.27 in /usr/local/lib/python3.8/dist-packages (from transformers==2.8.0) (4.64.1)\n",
            "Requirement already satisfied: regex!=2019.12.17 in /usr/local/lib/python3.8/dist-packages (from transformers==2.8.0) (2022.6.2)\n",
            "Collecting sacremoses\n",
            "  Downloading sacremoses-0.0.53.tar.gz (880 kB)\n",
            "\u001b[K     |████████████████████████████████| 880 kB 46.0 MB/s \n",
            "\u001b[?25hRequirement already satisfied: filelock in /usr/local/lib/python3.8/dist-packages (from transformers==2.8.0) (3.8.0)\n",
            "Collecting tokenizers==0.5.2\n",
            "  Downloading tokenizers-0.5.2-cp38-cp38-manylinux1_x86_64.whl (7.4 MB)\n",
            "\u001b[K     |████████████████████████████████| 7.4 MB 44.8 MB/s \n",
            "\u001b[?25hCollecting jmespath<2.0.0,>=0.7.1\n",
            "  Downloading jmespath-1.0.1-py3-none-any.whl (20 kB)\n",
            "Collecting botocore<1.30.0,>=1.29.22\n",
            "  Downloading botocore-1.29.22-py3-none-any.whl (10.2 MB)\n",
            "\u001b[K     |████████████████████████████████| 10.2 MB 39.4 MB/s \n",
            "\u001b[?25hCollecting s3transfer<0.7.0,>=0.6.0\n",
            "  Downloading s3transfer-0.6.0-py3-none-any.whl (79 kB)\n",
            "\u001b[K     |████████████████████████████████| 79 kB 6.8 MB/s \n",
            "\u001b[?25hCollecting urllib3<1.27,>=1.25.4\n",
            "  Downloading urllib3-1.26.13-py2.py3-none-any.whl (140 kB)\n",
            "\u001b[K     |████████████████████████████████| 140 kB 52.1 MB/s \n",
            "\u001b[?25hRequirement already satisfied: python-dateutil<3.0.0,>=2.1 in /usr/local/lib/python3.8/dist-packages (from botocore<1.30.0,>=1.29.22->boto3->transformers==2.8.0) (2.8.2)\n",
            "Requirement already satisfied: six>=1.5 in /usr/local/lib/python3.8/dist-packages (from python-dateutil<3.0.0,>=2.1->botocore<1.30.0,>=1.29.22->boto3->transformers==2.8.0) (1.15.0)\n",
            "Requirement already satisfied: chardet<4,>=3.0.2 in /usr/local/lib/python3.8/dist-packages (from requests->transformers==2.8.0) (3.0.4)\n",
            "  Downloading urllib3-1.25.11-py2.py3-none-any.whl (127 kB)\n",
            "\u001b[K     |████████████████████████████████| 127 kB 65.5 MB/s \n",
            "\u001b[?25hRequirement already satisfied: certifi>=2017.4.17 in /usr/local/lib/python3.8/dist-packages (from requests->transformers==2.8.0) (2022.9.24)\n",
            "Requirement already satisfied: idna<3,>=2.5 in /usr/local/lib/python3.8/dist-packages (from requests->transformers==2.8.0) (2.10)\n",
            "Requirement already satisfied: click in /usr/local/lib/python3.8/dist-packages (from sacremoses->transformers==2.8.0) (7.1.2)\n",
            "Requirement already satisfied: joblib in /usr/local/lib/python3.8/dist-packages (from sacremoses->transformers==2.8.0) (1.2.0)\n",
            "Building wheels for collected packages: sacremoses\n",
            "  Building wheel for sacremoses (setup.py) ... \u001b[?25l\u001b[?25hdone\n",
            "  Created wheel for sacremoses: filename=sacremoses-0.0.53-py3-none-any.whl size=895260 sha256=a8132fb9bbe709574377b6a47de03a2cc9016eea64b58c2d26698384b06e23fc\n",
            "  Stored in directory: /root/.cache/pip/wheels/82/ab/9b/c15899bf659ba74f623ac776e861cf2eb8608c1825ddec66a4\n",
            "Successfully built sacremoses\n",
            "Installing collected packages: urllib3, jmespath, botocore, s3transfer, tokenizers, sentencepiece, sacremoses, boto3, transformers\n",
            "  Attempting uninstall: urllib3\n",
            "    Found existing installation: urllib3 1.24.3\n",
            "    Uninstalling urllib3-1.24.3:\n",
            "      Successfully uninstalled urllib3-1.24.3\n",
            "Successfully installed boto3-1.26.22 botocore-1.29.22 jmespath-1.0.1 s3transfer-0.6.0 sacremoses-0.0.53 sentencepiece-0.1.97 tokenizers-0.5.2 transformers-2.8.0 urllib3-1.25.11\n",
            "Cloning into 'electra'...\n",
            "remote: Enumerating objects: 161, done.\u001b[K\n",
            "remote: Counting objects: 100% (97/97), done.\u001b[K\n",
            "remote: Compressing objects: 100% (31/31), done.\u001b[K\n",
            "remote: Total 161 (delta 74), reused 66 (delta 66), pack-reused 64\u001b[K\n",
            "Receiving objects: 100% (161/161), 113.67 KiB | 2.47 MiB/s, done.\n",
            "Resolving deltas: 100% (87/87), done.\n"
          ]
        }
      ],
      "source": [
        "! python3.7 -m pip install tensorflow-gpu==1.15.0\n",
        "!pip install transformers==2.8.0\n",
        "!git clone https://github.com/google-research/electra.git"
      ]
    },
    {
      "cell_type": "code",
      "source": [
        "import os\n",
        "import json\n",
        "from pprint import pprint\n",
        "import pandas as pd\n",
        "import re\n",
        "\n",
        "import torch\n",
        "from transformers import AutoTokenizer\n",
        "from torch.utils.data import Dataset, DataLoader, TensorDataset\n",
        "from torch.optim.lr_scheduler import ExponentialLR\n",
        "from transformers import AutoModelForSequenceClassification, AutoTokenizer, AdamW\n",
        "from sklearn.metrics import accuracy_score, precision_score, recall_score, f1_score"
      ],
      "metadata": {
        "id": "rxU27X7Hl_c9"
      },
      "execution_count": null,
      "outputs": []
    },
    {
      "cell_type": "markdown",
      "source": [
        "# 데이터 정의 및 다운로드\n",
        "\n",
        "\n",
        "OpenSubtitles에서 검색한 스페인어 영화 자막 데이터 세트에서 ELECTRA를 사전 학습합니다. 이 데이터 세트의 크기는 5.4GB이며 프리젠테이션을 위해 ~30MB의 작은 하위 집합에서 훈련\n"
      ],
      "metadata": {
        "id": "YqQCsFEEmW0s"
      }
    },
    {
      "cell_type": "code",
      "source": [
        "DATA_DIR = \"./data\" #@param {type: \"string\"}\n",
        "TRAIN_SIZE = 1000000 #@param {type:\"integer\"}\n",
        "MODEL_NAME = \"electra-spanish\" #@param {type: \"string\"}"
      ],
      "metadata": {
        "id": "bZSmkNufmEPc"
      },
      "execution_count": null,
      "outputs": []
    },
    {
      "cell_type": "code",
      "source": [
        "#스페인 영화 자막 데이터 세트 다운로드 및 압축 해제\n",
        "\n",
        "if not os.path.exists(DATA_DIR):\n",
        "  !mkdir -p $DATA_DIR\n",
        "  !wget \"https://object.pouta.csc.fi/OPUS-OpenSubtitles/v2016/mono/es.txt.gz\" -O $DATA_DIR/OpenSubtitles.txt.gz\n",
        "  !gzip -d $DATA_DIR/OpenSubtitles.txt.gz\n",
        "  !head -n $TRAIN_SIZE $DATA_DIR/OpenSubtitles.txt > $DATA_DIR/train_data.txt \n",
        "  !rm $DATA_DIR/OpenSubtitles.txt"
      ],
      "metadata": {
        "id": "bPhfe2HpmPNY"
      },
      "execution_count": null,
      "outputs": []
    },
    {
      "cell_type": "markdown",
      "source": [
        "# Build Pretraining Dataset"
      ],
      "metadata": {
        "id": "-pnH1Q_xoFrr"
      }
    },
    {
      "cell_type": "code",
      "source": [
        "#pretrained 된 WordPiece 토크나이저를 저장하여 'vocab.txt'를 얻는다. \n",
        "tokenizer = AutoTokenizer.from_pretrained(\"bert-base-multilingual-cased\")\n",
        "tokenizer.save_pretrained(DATA_DIR)"
      ],
      "metadata": {
        "colab": {
          "base_uri": "https://localhost:8080/",
          "height": 135,
          "referenced_widgets": [
            "831dde34cb6b461bb385a9dca6f36789",
            "1797767bbff641e1935d908b25640283",
            "765a19a6516349b7b1da16b3c6814800",
            "f15320b6431e48a9b054ac368b1c0356",
            "13ae143e6c1940b5b94f8e67d83212d9",
            "7a92965b25a84bc9a513015faad73eeb",
            "ed39703627c342598f7abdf5de2b8fca",
            "3ce13e5271b2459991c45165e5df65a5",
            "2f053879f2064bd8bd8ed2ab0ad9f165",
            "fdcf937da3094c6b98396af2f175544c",
            "9b5b0efda4e54bf38e5c0626592fce53",
            "732963ed57a142659f59734b7d51da1d",
            "457e2dc9aa1a4247b0136b7f70e0e875",
            "da20f293c2b24f348a9a7c01af51df59",
            "3e31be41424a442aaf6e05212deb6a21",
            "2d55b99c1faf4eabbc1c3e5a6e11eb51",
            "82683d8d52cb4e229e32fac9694dd8ca",
            "ae675f8f8b164bc686797c613ad41f5e",
            "8396592bc1b847d699eeffcabf3bbbe9",
            "1f40980a83a54919a2f7f2497e144731",
            "59c59073fb3148a888380064eaec23e6",
            "dbdd1d39149b46fc8bd31fafdb399ac5"
          ]
        },
        "id": "U2_cx6q_pZw8",
        "outputId": "b2debb9a-0f14-446a-8542-69d7affc4d3b"
      },
      "execution_count": null,
      "outputs": [
        {
          "output_type": "display_data",
          "data": {
            "text/plain": [
              "Downloading:   0%|          | 0.00/625 [00:00<?, ?B/s]"
            ],
            "application/vnd.jupyter.widget-view+json": {
              "version_major": 2,
              "version_minor": 0,
              "model_id": "831dde34cb6b461bb385a9dca6f36789"
            }
          },
          "metadata": {}
        },
        {
          "output_type": "display_data",
          "data": {
            "text/plain": [
              "Downloading:   0%|          | 0.00/996k [00:00<?, ?B/s]"
            ],
            "application/vnd.jupyter.widget-view+json": {
              "version_major": 2,
              "version_minor": 0,
              "model_id": "732963ed57a142659f59734b7d51da1d"
            }
          },
          "metadata": {}
        },
        {
          "output_type": "execute_result",
          "data": {
            "text/plain": [
              "('./data/vocab.txt',\n",
              " './data/special_tokens_map.json',\n",
              " './data/added_tokens.json')"
            ]
          },
          "metadata": {},
          "execution_count": 5
        }
      ]
    },
    {
      "cell_type": "markdown",
      "source": [
        "build_pretraining_dataset.py를 사용하여 dump of raw text에서 사전 훈련 데이터 세트를 생성"
      ],
      "metadata": {
        "id": "Mb9b4LjXpw4E"
      }
    },
    {
      "cell_type": "code",
      "source": [
        "!python3 electra/build_pretraining_dataset.py \\\n",
        "  --corpus-dir $DATA_DIR \\\n",
        "  --vocab-file $DATA_DIR/vocab.txt \\\n",
        "  --output-dir $DATA_DIR/pretrain_tfrecords \\\n",
        "  --max-seq-length 128 \\\n",
        "  --blanks-separate-docs False \\\n",
        "  --no-lower-case \\\n",
        "  --num-processes 5"
      ],
      "metadata": {
        "colab": {
          "base_uri": "https://localhost:8080/"
        },
        "id": "nHiM1CaOpxUz",
        "outputId": "dbb61a76-c293-486c-808b-34db9255b90d"
      },
      "execution_count": null,
      "outputs": [
        {
          "output_type": "stream",
          "name": "stdout",
          "text": [
            "Job 0: Creating example writer\n",
            "Job 1: Creating example writer\n",
            "Job 2: Creating example writer\n",
            "Job 3: Creating example writer\n",
            "Job 4: Creating example writer\n",
            "Job 4: Writing tf examples\n",
            "Job 1: Writing tf examples\n",
            "Job 1: Done!\n",
            "Job 3: Writing tf examples\n",
            "Job 2: Writing tf examples\n",
            "Job 2: Done!\n",
            "Job 0: Writing tf examples\n",
            "Job 0: Done!\n",
            "Job 4: Done!\n",
            "Job 3: Done!\n"
          ]
        }
      ]
    },
    {
      "cell_type": "markdown",
      "source": [
        "# Train \n",
        "\n",
        "ELECTRA model을 pre-train하기 위해 run_pretraining.py를 실행"
      ],
      "metadata": {
        "id": "7aR-P3DQqN-G"
      }
    },
    {
      "cell_type": "code",
      "source": [
        "hparams = {\n",
        "    \"do_train\": \"true\",\n",
        "    \"do_eval\": \"false\",\n",
        "    \"model_size\": \"small\",\n",
        "    \"do_lower_case\": \"false\",\n",
        "    \"vocab_size\": 119547,\n",
        "    \"num_train_steps\": 100,\n",
        "    \"save_checkpoints_steps\": 100,\n",
        "    \"train_batch_size\": 32,\n",
        "}\n",
        "           \n",
        "with open(\"hparams.json\", \"w\") as f:\n",
        "    json.dump(hparams, f)"
      ],
      "metadata": {
        "id": "-bnIwYrxrzoE"
      },
      "execution_count": null,
      "outputs": []
    },
    {
      "cell_type": "markdown",
      "source": [
        "### Start Training"
      ],
      "metadata": {
        "id": "5Wp9rhG3Ytsh"
      }
    },
    {
      "cell_type": "code",
      "source": [
        "!python3 electra/run_pretraining.py \\\n",
        "  --data-dir $DATA_DIR \\\n",
        "  --model-name $MODEL_NAME \\\n",
        "  --hparams \"hparams.json\""
      ],
      "metadata": {
        "id": "Rmfodj47ex0e"
      },
      "execution_count": null,
      "outputs": []
    },
    {
      "cell_type": "markdown",
      "source": [
        "# Fine Tune"
      ],
      "metadata": {
        "id": "MFYoQGiff9NI"
      }
    },
    {
      "cell_type": "code",
      "source": [
        "try:\n",
        "    import transformers, soynlp, pytorch_lightning\n",
        "except:\n",
        "    !pip install -U -q transformers soynlp pytorch-lightning\n",
        "!pip install emoji==0.6.0"
      ],
      "metadata": {
        "colab": {
          "base_uri": "https://localhost:8080/"
        },
        "id": "2_jrf1BBf8x1",
        "outputId": "22a56ec4-53ed-4597-c30f-a17215805ce8"
      },
      "execution_count": null,
      "outputs": [
        {
          "output_type": "stream",
          "name": "stdout",
          "text": [
            "\u001b[K     |████████████████████████████████| 5.8 MB 16.0 MB/s \n",
            "\u001b[K     |████████████████████████████████| 416 kB 77.6 MB/s \n",
            "\u001b[K     |████████████████████████████████| 798 kB 75.4 MB/s \n",
            "\u001b[K     |████████████████████████████████| 7.6 MB 76.8 MB/s \n",
            "\u001b[K     |████████████████████████████████| 182 kB 74.6 MB/s \n",
            "\u001b[K     |████████████████████████████████| 125 kB 78.4 MB/s \n",
            "\u001b[K     |████████████████████████████████| 512 kB 35.2 MB/s \n",
            "\u001b[K     |████████████████████████████████| 87 kB 5.8 MB/s \n",
            "\u001b[?25h  Building wheel for fire (setup.py) ... \u001b[?25l\u001b[?25hdone\n",
            "Looking in indexes: https://pypi.org/simple, https://us-python.pkg.dev/colab-wheels/public/simple/\n",
            "Collecting emoji==0.6.0\n",
            "  Downloading emoji-0.6.0.tar.gz (51 kB)\n",
            "\u001b[K     |████████████████████████████████| 51 kB 6.3 MB/s \n",
            "\u001b[?25hBuilding wheels for collected packages: emoji\n",
            "  Building wheel for emoji (setup.py) ... \u001b[?25l\u001b[?25hdone\n",
            "  Created wheel for emoji: filename=emoji-0.6.0-py3-none-any.whl size=49735 sha256=cadd7aa4e9121db982f464e98d3043ba2cd8c38ce7f9414f04878ed27add5d75\n",
            "  Stored in directory: /root/.cache/pip/wheels/43/3d/82/e7baffa5e86346c6178d7750dba6e8ef063282a37fc563f8f8\n",
            "Successfully built emoji\n",
            "Installing collected packages: emoji\n",
            "Successfully installed emoji-0.6.0\n"
          ]
        }
      ]
    },
    {
      "cell_type": "code",
      "source": [
        "import os\n",
        "\n",
        "if not os.path.exists('./nsmc'):\n",
        "    !git clone https://github.com/e9t/nsmc"
      ],
      "metadata": {
        "colab": {
          "base_uri": "https://localhost:8080/"
        },
        "id": "kNNFVNTvghf3",
        "outputId": "29c8d279-215d-4afc-852e-26a5aef2a7fa"
      },
      "execution_count": null,
      "outputs": [
        {
          "output_type": "stream",
          "name": "stdout",
          "text": [
            "Cloning into 'nsmc'...\n",
            "remote: Enumerating objects: 14763, done.\u001b[K\n",
            "remote: Total 14763 (delta 0), reused 0 (delta 0), pack-reused 14763\u001b[K\n",
            "Receiving objects: 100% (14763/14763), 56.19 MiB | 19.62 MiB/s, done.\n",
            "Resolving deltas: 100% (1749/1749), done.\n",
            "Checking out files: 100% (14737/14737), done.\n"
          ]
        }
      ]
    },
    {
      "cell_type": "markdown",
      "source": [
        "### 데이터 체크"
      ],
      "metadata": {
        "id": "ItMU7IPYY_B5"
      }
    },
    {
      "cell_type": "code",
      "source": [
        "!head nsmc/ratings_train.txt"
      ],
      "metadata": {
        "colab": {
          "base_uri": "https://localhost:8080/"
        },
        "id": "88e83dXsgk_x",
        "outputId": "d9077d53-9498-4bce-e386-7fecde07b9fa"
      },
      "execution_count": null,
      "outputs": [
        {
          "output_type": "stream",
          "name": "stdout",
          "text": [
            "id\tdocument\tlabel\n",
            "9976970\t아 더빙.. 진짜 짜증나네요 목소리\t0\n",
            "3819312\t흠...포스터보고 초딩영화줄....오버연기조차 가볍지 않구나\t1\n",
            "10265843\t너무재밓었다그래서보는것을추천한다\t0\n",
            "9045019\t교도소 이야기구먼 ..솔직히 재미는 없다..평점 조정\t0\n",
            "6483659\t사이몬페그의 익살스런 연기가 돋보였던 영화!스파이더맨에서 늙어보이기만 했던 커스틴 던스트가 너무나도 이뻐보였다\t1\n",
            "5403919\t막 걸음마 뗀 3세부터 초등학교 1학년생인 8살용영화.ㅋㅋㅋ...별반개도 아까움.\t0\n",
            "7797314\t원작의 긴장감을 제대로 살려내지못했다.\t0\n",
            "9443947\t별 반개도 아깝다 욕나온다 이응경 길용우 연기생활이몇년인지..정말 발로해도 그것보단 낫겟다 납치.감금만반복반복..이드라마는 가족도없다 연기못하는사람만모엿네\t0\n",
            "7156791\t액션이 없는데도 재미 있는 몇안되는 영화\t1\n"
          ]
        }
      ]
    },
    {
      "cell_type": "markdown",
      "source": [
        "### 추가 패키지 import"
      ],
      "metadata": {
        "id": "WbFIcM01g-QV"
      }
    },
    {
      "cell_type": "code",
      "source": [
        "from pytorch_lightning import LightningModule, Trainer, seed_everything\n",
        "\n",
        "import emoji\n",
        "from soynlp.normalizer import repeat_normalize"
      ],
      "metadata": {
        "id": "mXmyLIjZg0Dd"
      },
      "execution_count": null,
      "outputs": []
    },
    {
      "cell_type": "markdown",
      "source": [
        "### 기본 Arguments"
      ],
      "metadata": {
        "id": "L55Vh6BvhFc2"
      }
    },
    {
      "cell_type": "code",
      "source": [
        "args = {\n",
        "    'random_seed': 42, # Random Seed\n",
        "    'pretrained_model': 'beomi/KcELECTRA-base',  # Transformers PLM name\n",
        "    'pretrained_tokenizer': '',  # Optional, Transformers Tokenizer Name. Overrides `pretrained_model`\n",
        "    'batch_size': 32,\n",
        "    'lr': 5e-6,  # Starting Learning Rate\n",
        "    'epochs': 1,  # Max Epochs\n",
        "    'max_length': 150,  # Max Length input size\n",
        "    'train_data_path': \"nsmc/ratings_train.txt\",  # Train Dataset file \n",
        "    'val_data_path': \"nsmc/ratings_test.txt\",  # Validation Dataset file \n",
        "    'test_mode': False,  # Test Mode enables `fast_dev_run`\n",
        "    'optimizer': 'AdamW',  # AdamW vs AdamP\n",
        "    'lr_scheduler': 'exp',  # ExponentialLR vs CosineAnnealingWarmRestarts\n",
        "    'fp16': True,  # Enable train on FP16(if GPU)\n",
        "    'tpu_cores': 0,  # Enable TPU with 1 core or 8 cores\n",
        "    'cpu_workers': os.cpu_count(),\n",
        "}"
      ],
      "metadata": {
        "id": "Y6YEo4fig5Qw"
      },
      "execution_count": null,
      "outputs": []
    },
    {
      "cell_type": "code",
      "source": [
        "args"
      ],
      "metadata": {
        "colab": {
          "base_uri": "https://localhost:8080/"
        },
        "id": "iyDSfxzGhI3e",
        "outputId": "3a4cc1b1-b696-4788-b710-70d8ffd72500"
      },
      "execution_count": null,
      "outputs": [
        {
          "output_type": "execute_result",
          "data": {
            "text/plain": [
              "{'random_seed': 42,\n",
              " 'pretrained_model': 'beomi/KcELECTRA-base',\n",
              " 'pretrained_tokenizer': '',\n",
              " 'batch_size': 32,\n",
              " 'lr': 5e-06,\n",
              " 'epochs': 1,\n",
              " 'max_length': 150,\n",
              " 'train_data_path': 'nsmc/ratings_train.txt',\n",
              " 'val_data_path': 'nsmc/ratings_test.txt',\n",
              " 'test_mode': False,\n",
              " 'optimizer': 'AdamW',\n",
              " 'lr_scheduler': 'exp',\n",
              " 'fp16': True,\n",
              " 'tpu_cores': 0,\n",
              " 'cpu_workers': 2}"
            ]
          },
          "metadata": {},
          "execution_count": 8
        }
      ]
    },
    {
      "cell_type": "markdown",
      "source": [
        "# Model"
      ],
      "metadata": {
        "id": "MCAavdrGhKwS"
      }
    },
    {
      "cell_type": "code",
      "source": [
        "class Model(LightningModule):\n",
        "    def __init__(self, **kwargs):\n",
        "        super().__init__()\n",
        "        self.save_hyperparameters() # 이 부분에서 self.hparams에 위 kwargs가 저장된다.\n",
        "        \n",
        "        self.clsfier = AutoModelForSequenceClassification.from_pretrained(self.hparams.pretrained_model)\n",
        "        self.tokenizer = AutoTokenizer.from_pretrained(\n",
        "            self.hparams.pretrained_tokenizer\n",
        "            if self.hparams.pretrained_tokenizer\n",
        "            else self.hparams.pretrained_model\n",
        "        )\n",
        "\n",
        "    def forward(self, **kwargs):\n",
        "        return self.clsfier(**kwargs)\n",
        "\n",
        "    def step(self, batch, batch_idx):\n",
        "        data, labels = batch\n",
        "        output = self(input_ids=data, labels=labels)\n",
        "\n",
        "        # Transformers 4.0.0+\n",
        "        loss = output.loss\n",
        "        logits = output.logits\n",
        "\n",
        "        preds = logits.argmax(dim=-1)\n",
        "\n",
        "        y_true = list(labels.cpu().numpy())\n",
        "        y_pred = list(preds.cpu().numpy())\n",
        "\n",
        "        return {\n",
        "            'loss': loss,\n",
        "            'y_true': y_true,\n",
        "            'y_pred': y_pred,\n",
        "        }\n",
        "\n",
        "    def training_step(self, batch, batch_idx):\n",
        "        return self.step(batch, batch_idx)\n",
        "\n",
        "    def validation_step(self, batch, batch_idx):\n",
        "        return self.step(batch, batch_idx)\n",
        "\n",
        "    def epoch_end(self, outputs, state='train'):\n",
        "        loss = torch.tensor(0, dtype=torch.float)\n",
        "        for i in outputs:\n",
        "            loss += i['loss'].cpu().detach()\n",
        "        loss = loss / len(outputs)\n",
        "\n",
        "        y_true = []\n",
        "        y_pred = []\n",
        "        for i in outputs:\n",
        "            y_true += i['y_true']\n",
        "            y_pred += i['y_pred']\n",
        "        \n",
        "        acc = accuracy_score(y_true, y_pred)\n",
        "        prec = precision_score(y_true, y_pred)\n",
        "        rec = recall_score(y_true, y_pred)\n",
        "        f1 = f1_score(y_true, y_pred)\n",
        "\n",
        "        self.log(state+'_loss', float(loss), on_epoch=True, prog_bar=True)\n",
        "        self.log(state+'_acc', acc, on_epoch=True, prog_bar=True)\n",
        "        self.log(state+'_precision', prec, on_epoch=True, prog_bar=True)\n",
        "        self.log(state+'_recall', rec, on_epoch=True, prog_bar=True)\n",
        "        self.log(state+'_f1', f1, on_epoch=True, prog_bar=True)\n",
        "        print(f'[Epoch {self.trainer.current_epoch} {state.upper()}] Loss: {loss}, Acc: {acc}, Prec: {prec}, Rec: {rec}, F1: {f1}')\n",
        "        return {'loss': loss}\n",
        "    \n",
        "    def training_epoch_end(self, outputs):\n",
        "        self.epoch_end(outputs, state='train')\n",
        "\n",
        "    def validation_epoch_end(self, outputs):\n",
        "        self.epoch_end(outputs, state='val')\n",
        "\n",
        "    def configure_optimizers(self):\n",
        "        if self.hparams.optimizer == 'AdamW':\n",
        "            optimizer = AdamW(self.parameters(), lr=self.hparams.lr)\n",
        "        elif self.hparams.optimizer == 'AdamP':\n",
        "            from adamp import AdamP\n",
        "            optimizer = AdamP(self.parameters(), lr=self.hparams.lr)\n",
        "        else:\n",
        "            raise NotImplementedError('Only AdamW and AdamP is Supported!')\n",
        "        if self.hparams.lr_scheduler == 'cos':\n",
        "            scheduler = CosineAnnealingWarmRestarts(optimizer, T_0=1, T_mult=2)\n",
        "        elif self.hparams.lr_scheduler == 'exp':\n",
        "            scheduler = ExponentialLR(optimizer, gamma=0.5)\n",
        "        else:\n",
        "            raise NotImplementedError('Only cos and exp lr scheduler is Supported!')\n",
        "        return {\n",
        "            'optimizer': optimizer,\n",
        "            'scheduler': scheduler,\n",
        "        }\n",
        "\n",
        "    def read_data(self, path):\n",
        "        if path.endswith('xlsx'):\n",
        "            return pd.read_excel(path)\n",
        "        elif path.endswith('csv'):\n",
        "            return pd.read_csv(path)\n",
        "        elif path.endswith('tsv') or path.endswith('txt'):\n",
        "            return pd.read_csv(path, sep='\\t')\n",
        "        else:\n",
        "            raise NotImplementedError('Only Excel(xlsx)/Csv/Tsv(txt) are Supported')\n",
        "\n",
        "    def clean(self, x):\n",
        "        emojis = ''.join(emoji.UNICODE_EMOJI.keys())\n",
        "        pattern = re.compile(f'[^ .,?!/@$%~％·∼()\\x00-\\x7Fㄱ-힣{emojis}]+')\n",
        "        url_pattern = re.compile(\n",
        "            r'https?:\\/\\/(www\\.)?[-a-zA-Z0-9@:%._\\+~#=]{1,256}\\.[a-zA-Z0-9()]{1,6}\\b([-a-zA-Z0-9()@:%_\\+.~#?&//=]*)')\n",
        "        x = pattern.sub(' ', x)\n",
        "        x = url_pattern.sub('', x)\n",
        "        x = x.strip()\n",
        "        x = repeat_normalize(x, num_repeats=2)\n",
        "        return x\n",
        "\n",
        "    def encode(self, x, **kwargs):\n",
        "        return self.tokenizer.encode(\n",
        "            self.clean(str(x)),\n",
        "            padding='max_length',\n",
        "            max_length=self.hparams.max_length,\n",
        "            truncation=True,\n",
        "            **kwargs,\n",
        "        )\n",
        "\n",
        "    def preprocess_dataframe(self, df):\n",
        "        df['document'] = df['document'].map(self.encode)\n",
        "        return df\n",
        "\n",
        "    def dataloader(self, path, shuffle=False):\n",
        "        df = self.read_data(path)\n",
        "        df = self.preprocess_dataframe(df)\n",
        "\n",
        "        dataset = TensorDataset(\n",
        "            torch.tensor(df['document'].to_list(), dtype=torch.long),\n",
        "            torch.tensor(df['label'].to_list(), dtype=torch.long),\n",
        "        )\n",
        "        return DataLoader(\n",
        "            dataset,\n",
        "            batch_size=self.hparams.batch_size * 1 if not self.hparams.tpu_cores else self.hparams.tpu_cores,\n",
        "            shuffle=shuffle,\n",
        "            num_workers=self.hparams.cpu_workers,\n",
        "        )\n",
        "\n",
        "    def train_dataloader(self):\n",
        "        return self.dataloader(self.hparams.train_data_path, shuffle=True)\n",
        "\n",
        "    def val_dataloader(self):\n",
        "        return self.dataloader(self.hparams.val_data_path, shuffle=False)"
      ],
      "metadata": {
        "id": "FqqC68rHhe4c"
      },
      "execution_count": null,
      "outputs": []
    },
    {
      "cell_type": "code",
      "source": [
        "from pytorch_lightning.callbacks import ModelCheckpoint\n",
        "\n",
        "checkpoint_callback = ModelCheckpoint(\n",
        "    filename='epoch{epoch}-val_acc{val_acc:.4f}',\n",
        "    monitor='val_acc',\n",
        "    save_top_k=3,\n",
        "    mode='max',\n",
        "    auto_insert_metric_name=False,\n",
        ")"
      ],
      "metadata": {
        "id": "DIoVxFg5hhpk"
      },
      "execution_count": null,
      "outputs": []
    },
    {
      "cell_type": "markdown",
      "source": [
        "# Training"
      ],
      "metadata": {
        "id": "0h-wRdowhkBS"
      }
    },
    {
      "cell_type": "code",
      "source": [
        "print(\"Using PyTorch Ver\", torch.__version__)\n",
        "print(\"Fix Seed:\", args['random_seed'])\n",
        "seed_everything(args['random_seed'])\n",
        "model = Model(**args)\n",
        "\n",
        "print(\":: Start Training ::\")\n",
        "trainer = Trainer(\n",
        "    callbacks=[checkpoint_callback],\n",
        "    max_epochs=args['epochs'],\n",
        "    fast_dev_run=args['test_mode'],\n",
        "    num_sanity_val_steps=None if args['test_mode'] else 0,\n",
        "    # For GPU Setup\n",
        "    deterministic=torch.cuda.is_available(),\n",
        "    gpus=[0] if torch.cuda.is_available() else None,  # 0번 idx GPU  사용\n",
        "    precision=16 if args['fp16'] and torch.cuda.is_available() else 32,\n",
        "    # For TPU Setup\n",
        "    # tpu_cores=args['tpu_cores'] if args['tpu_cores'] else None,\n",
        ")\n",
        "trainer.fit(model)"
      ],
      "metadata": {
        "colab": {
          "base_uri": "https://localhost:8080/",
          "height": 913,
          "referenced_widgets": [
            "e73c7003fa614646af0064e297208749",
            "69b388276b2049c39631c6a1320d5592",
            "35b8808accb04bb3b7e0702e9da99938",
            "3f5ddf8663de4c8f88df8dd35a852de0",
            "395f7d9d9be949ad87db0aaeb243adc4",
            "4c8f40385e984e109fa948a0dc32d322",
            "522c38797a7249dd8bae92971894b625",
            "bb9e86a598e74a51a4445fab86ade746",
            "011a17f278b44fb5ae6ecf0c860d2781",
            "1bef1de8ed2b4d1e82d779bd047fec38",
            "a72c51dc73874961a5d97ea92274bc06",
            "2e6d85f0f67b417bb5b389a9cf6574b0",
            "b41245d8a3ad4cd2927f33a1bbe75b2a",
            "77f8184bad584e90a110854c31f12640",
            "fe42be74acf2449a8924ee66378d8605",
            "7f2d1a86b4114485baef9a3741588820",
            "27d2b9ca8738487a9e2cc67e21816cec",
            "adef15f9ab0c40098fc7cf0f7ca1c471",
            "c46f49ac60d143bdadea04ed30f6a988",
            "d69f39b43a374e9eb2fd5fec71486990",
            "3008000ad7d0434c9170b6739bbe83e9",
            "7b6e26ad66ac45aaba0848e14735d317",
            "caf07c3dfdab4eb88b3607c7d0a5e992",
            "c8da875330f948a2bd587c0d1150160e",
            "ecc3c4824bc94cd0ad52de059e8e5538",
            "090f6e9d4a054efda5d0cc22143f567a",
            "bd87923d01d7408493df180047af32de",
            "329116ae0f6142e1a6ac64fab28e803a",
            "34d582ea6c6e462f879a04e6b1c47b88",
            "7937239cf03d45c9ab5f8d5546cd24f3",
            "0d5a27d4309f4f63add307ae118be114",
            "a7d5e9197fb340c9a7bd76452fcf0e5a",
            "58f2a7da149445699a6c64a5ae4a580c",
            "b3a9ccfa7ed04017836a05f6f08447fe",
            "9cee9df816b54d508fb18eebbeffaaa2",
            "8aec9578ef2f4c4184621e049b719d97",
            "c5a856bdd616416d8143b997a9519d4e",
            "e15426a92af24c39a6e294529b888f8c",
            "02b00cdab65145b6b8f257f2b9c83741",
            "ed22a5e14d5e4c78830889319d84a5e5",
            "fdd4e75243c244cc9d72be2dc8716286",
            "4629b4d673344deb8b6797a2f48e6ef3",
            "572a38084cb0488abf582dacac9c53e5",
            "86618c22303f4fc69dc17f653c620308",
            "ce69f52a3f084874a13487e5ea219b6c",
            "4e4d4946e96244a7abc9a5d5cc9a96d1",
            "d11a7ba88d01477da6c2ddfc4717a0d8",
            "94309638bc0b498d8a59a28656aa3e72",
            "df2c90cc57b94c50a523885daaee7e37",
            "b6c9a11cab304670bad7cbfd4113ddf9",
            "d85042f226df43c1957c9e9d6fca4e55",
            "5fc4cfc327154bca94f5bc1064339908",
            "62287d591c3f45219374ca287241ebc0",
            "f86276cb9c784f3e87fa538fdb71da6e",
            "a733ba99230041c39e08f52635383492",
            "b4819677f2fa4d7eb0058660db8f7f50",
            "b6e830b3df9e4867b4a2df52899bed2c",
            "e7899b683852427399144c3308cc00c8",
            "3754710e07354af59a4ea082dd4732b0",
            "f615adb2b176471687cbaaf63641f731",
            "54d1528b93894baf962f376a5ef2eae4",
            "3c9a2bc720dd456d97c2a1ab0733ceaa",
            "7c9565ecadd24b76b2375bdcfa9203c4",
            "73685b6aaecf4dae8cce6a4652a19925",
            "b4c6db45d482473ba542e67783270c1d",
            "39074ae774fb44c5a0970ae560e8bc7e",
            "0c14b5b40dfe4d659e2e5cf2ea3af6de",
            "2228c63c62ce4823998fc0c26a384d70",
            "ba88653e44504553b7ebd4499b158afb",
            "c03ef7b833564e3b8dffdf1f757dfaac",
            "1be313045fef414a8db25598ec132e92",
            "8a8eb72d4bfb40688c13283c4c2ec1b5",
            "35aabc4f05cf497192b0c4d7d0989f4f",
            "29a684f58f6045f9b4086072a3a41749",
            "cbccce902ede449b916668029caf34e0",
            "7fb1bce6455846cfbed86a42b91b5cbf",
            "13329e10eaea42c2b1cb4b6146bee4f3"
          ]
        },
        "id": "LB4HLZs1iIod",
        "outputId": "c433ca04-6201-4ec7-e347-bb87f9a4e136"
      },
      "execution_count": null,
      "outputs": [
        {
          "output_type": "stream",
          "name": "stderr",
          "text": [
            "INFO:lightning_lite.utilities.seed:Global seed set to 42\n"
          ]
        },
        {
          "output_type": "stream",
          "name": "stdout",
          "text": [
            "Using PyTorch Ver 1.12.1+cu113\n",
            "Fix Seed: 42\n"
          ]
        },
        {
          "output_type": "display_data",
          "data": {
            "text/plain": [
              "Downloading:   0%|          | 0.00/504 [00:00<?, ?B/s]"
            ],
            "application/vnd.jupyter.widget-view+json": {
              "version_major": 2,
              "version_minor": 0,
              "model_id": "e73c7003fa614646af0064e297208749"
            }
          },
          "metadata": {}
        },
        {
          "output_type": "display_data",
          "data": {
            "text/plain": [
              "Downloading:   0%|          | 0.00/498M [00:00<?, ?B/s]"
            ],
            "application/vnd.jupyter.widget-view+json": {
              "version_major": 2,
              "version_minor": 0,
              "model_id": "2e6d85f0f67b417bb5b389a9cf6574b0"
            }
          },
          "metadata": {}
        },
        {
          "output_type": "stream",
          "name": "stderr",
          "text": [
            "Some weights of the model checkpoint at beomi/KcELECTRA-base were not used when initializing ElectraForSequenceClassification: ['discriminator_predictions.dense_prediction.weight', 'discriminator_predictions.dense.bias', 'discriminator_predictions.dense_prediction.bias', 'discriminator_predictions.dense.weight']\n",
            "- This IS expected if you are initializing ElectraForSequenceClassification from the checkpoint of a model trained on another task or with another architecture (e.g. initializing a BertForSequenceClassification model from a BertForPreTraining model).\n",
            "- This IS NOT expected if you are initializing ElectraForSequenceClassification from the checkpoint of a model that you expect to be exactly identical (initializing a BertForSequenceClassification model from a BertForSequenceClassification model).\n",
            "Some weights of ElectraForSequenceClassification were not initialized from the model checkpoint at beomi/KcELECTRA-base and are newly initialized: ['classifier.out_proj.bias', 'classifier.dense.weight', 'classifier.out_proj.weight', 'classifier.dense.bias']\n",
            "You should probably TRAIN this model on a down-stream task to be able to use it for predictions and inference.\n"
          ]
        },
        {
          "output_type": "display_data",
          "data": {
            "text/plain": [
              "Downloading:   0%|          | 0.00/288 [00:00<?, ?B/s]"
            ],
            "application/vnd.jupyter.widget-view+json": {
              "version_major": 2,
              "version_minor": 0,
              "model_id": "caf07c3dfdab4eb88b3607c7d0a5e992"
            }
          },
          "metadata": {}
        },
        {
          "output_type": "display_data",
          "data": {
            "text/plain": [
              "Downloading:   0%|          | 0.00/396k [00:00<?, ?B/s]"
            ],
            "application/vnd.jupyter.widget-view+json": {
              "version_major": 2,
              "version_minor": 0,
              "model_id": "b3a9ccfa7ed04017836a05f6f08447fe"
            }
          },
          "metadata": {}
        },
        {
          "output_type": "display_data",
          "data": {
            "text/plain": [
              "Downloading:   0%|          | 0.00/124 [00:00<?, ?B/s]"
            ],
            "application/vnd.jupyter.widget-view+json": {
              "version_major": 2,
              "version_minor": 0,
              "model_id": "ce69f52a3f084874a13487e5ea219b6c"
            }
          },
          "metadata": {}
        },
        {
          "output_type": "stream",
          "name": "stderr",
          "text": [
            "/usr/local/lib/python3.8/dist-packages/pytorch_lightning/trainer/connectors/accelerator_connector.py:446: LightningDeprecationWarning: Setting `Trainer(gpus=[0])` is deprecated in v1.7 and will be removed in v2.0. Please use `Trainer(accelerator='gpu', devices=[0])` instead.\n",
            "  rank_zero_deprecation(\n",
            "INFO:pytorch_lightning.utilities.rank_zero:Using 16bit native Automatic Mixed Precision (AMP)\n",
            "INFO:pytorch_lightning.utilities.rank_zero:GPU available: True (cuda), used: True\n",
            "INFO:pytorch_lightning.utilities.rank_zero:TPU available: False, using: 0 TPU cores\n",
            "INFO:pytorch_lightning.utilities.rank_zero:IPU available: False, using: 0 IPUs\n",
            "INFO:pytorch_lightning.utilities.rank_zero:HPU available: False, using: 0 HPUs\n",
            "WARNING:pytorch_lightning.loggers.tensorboard:Missing logger folder: /content/lightning_logs\n"
          ]
        },
        {
          "output_type": "stream",
          "name": "stdout",
          "text": [
            ":: Start Training ::\n"
          ]
        },
        {
          "output_type": "stream",
          "name": "stderr",
          "text": [
            "INFO:pytorch_lightning.accelerators.cuda:LOCAL_RANK: 0 - CUDA_VISIBLE_DEVICES: [0]\n",
            "/usr/local/lib/python3.8/dist-packages/transformers/optimization.py:306: FutureWarning: This implementation of AdamW is deprecated and will be removed in a future version. Use the PyTorch implementation torch.optim.AdamW instead, or set `no_deprecation_warning=True` to disable this warning\n",
            "  warnings.warn(\n",
            "/usr/local/lib/python3.8/dist-packages/pytorch_lightning/core/optimizer.py:382: RuntimeWarning: Found unsupported keys in the optimizer configuration: {'scheduler'}\n",
            "  rank_zero_warn(\n",
            "INFO:pytorch_lightning.callbacks.model_summary:\n",
            "  | Name    | Type                             | Params\n",
            "-------------------------------------------------------------\n",
            "0 | clsfier | ElectraForSequenceClassification | 124 M \n",
            "-------------------------------------------------------------\n",
            "124 M     Trainable params\n",
            "0         Non-trainable params\n",
            "124 M     Total params\n",
            "249.093   Total estimated model params size (MB)\n"
          ]
        },
        {
          "output_type": "display_data",
          "data": {
            "text/plain": [
              "Training: 0it [00:00, ?it/s]"
            ],
            "application/vnd.jupyter.widget-view+json": {
              "version_major": 2,
              "version_minor": 0,
              "model_id": "b4819677f2fa4d7eb0058660db8f7f50"
            }
          },
          "metadata": {}
        },
        {
          "output_type": "display_data",
          "data": {
            "text/plain": [
              "Validation: 0it [00:00, ?it/s]"
            ],
            "application/vnd.jupyter.widget-view+json": {
              "version_major": 2,
              "version_minor": 0,
              "model_id": "0c14b5b40dfe4d659e2e5cf2ea3af6de"
            }
          },
          "metadata": {}
        },
        {
          "output_type": "stream",
          "name": "stdout",
          "text": [
            "[Epoch 0 VAL] Loss: 0.22270537912845612, Acc: 0.9106, Prec: 0.8939076829407512, Rec: 0.9331823779446232, F1: 0.9131229106740263\n",
            "[Epoch 0 TRAIN] Loss: 0.2758807837963104, Acc: 0.88342, Prec: 0.8816865031818303, Rec: 0.8850682240367782, F1: 0.8833741271566816\n"
          ]
        },
        {
          "output_type": "stream",
          "name": "stderr",
          "text": [
            "INFO:pytorch_lightning.utilities.rank_zero:`Trainer.fit` stopped: `max_epochs=1` reached.\n"
          ]
        }
      ]
    },
    {
      "cell_type": "markdown",
      "source": [
        "### 모델 저장"
      ],
      "metadata": {
        "id": "JLU6M87qZjLJ"
      }
    },
    {
      "cell_type": "code",
      "source": [
        "from glob import glob\n",
        "\n",
        "latest_ckpt = sorted(glob('./lightning_logs/version_0/checkpoints/*.ckpt'))[-1]\n",
        "latest_ckpt"
      ],
      "metadata": {
        "colab": {
          "base_uri": "https://localhost:8080/",
          "height": 35
        },
        "id": "yP5FwdMZjiga",
        "outputId": "fa6f3eac-6682-4017-e6e9-55946adb20c2"
      },
      "execution_count": null,
      "outputs": [
        {
          "output_type": "execute_result",
          "data": {
            "text/plain": [
              "'./lightning_logs/version_0/checkpoints/epoch0-val_acc0.9106.ckpt'"
            ],
            "application/vnd.google.colaboratory.intrinsic+json": {
              "type": "string"
            }
          },
          "metadata": {},
          "execution_count": 14
        }
      ]
    },
    {
      "cell_type": "code",
      "source": [
        "model = Model.load_from_checkpoint(latest_ckpt)"
      ],
      "metadata": {
        "colab": {
          "base_uri": "https://localhost:8080/"
        },
        "id": "zBibF9CYjjv-",
        "outputId": "93c43185-a96d-4225-f644-527b22d609e9"
      },
      "execution_count": null,
      "outputs": [
        {
          "output_type": "stream",
          "name": "stderr",
          "text": [
            "Some weights of the model checkpoint at beomi/KcELECTRA-base were not used when initializing ElectraForSequenceClassification: ['discriminator_predictions.dense_prediction.weight', 'discriminator_predictions.dense.bias', 'discriminator_predictions.dense_prediction.bias', 'discriminator_predictions.dense.weight']\n",
            "- This IS expected if you are initializing ElectraForSequenceClassification from the checkpoint of a model trained on another task or with another architecture (e.g. initializing a BertForSequenceClassification model from a BertForPreTraining model).\n",
            "- This IS NOT expected if you are initializing ElectraForSequenceClassification from the checkpoint of a model that you expect to be exactly identical (initializing a BertForSequenceClassification model from a BertForSequenceClassification model).\n",
            "Some weights of ElectraForSequenceClassification were not initialized from the model checkpoint at beomi/KcELECTRA-base and are newly initialized: ['classifier.out_proj.bias', 'classifier.dense.weight', 'classifier.out_proj.weight', 'classifier.dense.bias']\n",
            "You should probably TRAIN this model on a down-stream task to be able to use it for predictions and inference.\n"
          ]
        }
      ]
    },
    {
      "cell_type": "markdown",
      "source": [
        "# Inference"
      ],
      "metadata": {
        "id": "2V_HDJcZZlgR"
      }
    },
    {
      "cell_type": "code",
      "source": [
        "def infer(x):\n",
        "    return torch.softmax(\n",
        "        model(**model.tokenizer(x, return_tensors='pt')\n",
        "    ).logits, dim=-1)"
      ],
      "metadata": {
        "id": "EMZKkwZdjk_I"
      },
      "execution_count": null,
      "outputs": []
    },
    {
      "cell_type": "code",
      "source": [
        "infer('이  영화  꿀잼! 완존  추천요  ')"
      ],
      "metadata": {
        "colab": {
          "base_uri": "https://localhost:8080/"
        },
        "id": "o95qdswTjoNL",
        "outputId": "792aa0fa-5804-436f-e3d8-94bb5cfd2dab"
      },
      "execution_count": null,
      "outputs": [
        {
          "output_type": "execute_result",
          "data": {
            "text/plain": [
              "tensor([[0.3883, 0.6117]], grad_fn=<SoftmaxBackward0>)"
            ]
          },
          "metadata": {},
          "execution_count": 17
        }
      ]
    }
  ]
}